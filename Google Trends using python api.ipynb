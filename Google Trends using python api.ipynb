{
 "cells": [
  {
   "cell_type": "markdown",
   "metadata": {
    "toc": true
   },
   "source": [
    "<h1>Table of Contents<span class=\"tocSkip\"></span></h1>\n",
    "<div class=\"toc\"><ul class=\"toc-item\"><li><span><a href=\"#import-libraries\" data-toc-modified-id=\"import-libraries-1\"><span class=\"toc-item-num\">1&nbsp;&nbsp;</span>import libraries</a></span></li><li><span><a href=\"#interest-by-region\" data-toc-modified-id=\"interest-by-region-2\"><span class=\"toc-item-num\">2&nbsp;&nbsp;</span>interest by region</a></span><ul class=\"toc-item\"><li><span><a href=\"#build-payload\" data-toc-modified-id=\"build-payload-2.1\"><span class=\"toc-item-num\">2.1&nbsp;&nbsp;</span>build payload</a></span></li><li><span><a href=\"#interest-over-time\" data-toc-modified-id=\"interest-over-time-2.2\"><span class=\"toc-item-num\">2.2&nbsp;&nbsp;</span>interest over time</a></span></li><li><span><a href=\"#historical-hourly-interest\" data-toc-modified-id=\"historical-hourly-interest-2.3\"><span class=\"toc-item-num\">2.3&nbsp;&nbsp;</span>historical hourly interest</a></span></li></ul></li></ul></div>"
   ]
  },
  {
   "cell_type": "markdown",
   "metadata": {},
   "source": [
    "Resources\n",
    "1. Detailed run through of python api\n",
    "https://hackernoon.com/how-to-use-google-trends-api-with-python\n",
    "\n",
    "2. Article on towards data science\n",
    "https://towardsdatascience.com/google-trends-api-for-python-a84bc25db88f"
   ]
  },
  {
   "cell_type": "code",
   "execution_count": 1,
   "metadata": {
    "ExecuteTime": {
     "end_time": "2021-12-16T11:42:23.687510Z",
     "start_time": "2021-12-16T11:42:15.406578Z"
    }
   },
   "outputs": [
    {
     "name": "stdout",
     "output_type": "stream",
     "text": [
      "Collecting pytrends\n",
      "  Downloading pytrends-4.7.3-py3-none-any.whl (14 kB)\n",
      "Requirement already satisfied: pandas>=0.25 in c:\\users\\public\\anaconda3\\lib\\site-packages (from pytrends) (1.0.5)\n",
      "Requirement already satisfied: requests in c:\\users\\public\\anaconda3\\lib\\site-packages (from pytrends) (2.24.0)\n",
      "Requirement already satisfied: lxml in c:\\users\\public\\anaconda3\\lib\\site-packages (from pytrends) (4.6.1)\n",
      "Requirement already satisfied: numpy>=1.13.3 in c:\\users\\public\\anaconda3\\lib\\site-packages (from pandas>=0.25->pytrends) (1.19.1)\n",
      "Requirement already satisfied: pytz>=2017.2 in c:\\users\\public\\anaconda3\\lib\\site-packages (from pandas>=0.25->pytrends) (2020.1)\n",
      "Requirement already satisfied: python-dateutil>=2.6.1 in c:\\users\\public\\anaconda3\\lib\\site-packages (from pandas>=0.25->pytrends) (2.8.1)\n",
      "Requirement already satisfied: urllib3!=1.25.0,!=1.25.1,<1.26,>=1.21.1 in c:\\users\\public\\anaconda3\\lib\\site-packages (from requests->pytrends) (1.25.9)\n",
      "Requirement already satisfied: certifi>=2017.4.17 in c:\\users\\public\\anaconda3\\lib\\site-packages (from requests->pytrends) (2021.5.30)\n",
      "Requirement already satisfied: chardet<4,>=3.0.2 in c:\\users\\public\\anaconda3\\lib\\site-packages (from requests->pytrends) (3.0.4)\n",
      "Requirement already satisfied: idna<3,>=2.5 in c:\\users\\public\\anaconda3\\lib\\site-packages (from requests->pytrends) (2.10)\n",
      "Requirement already satisfied: six>=1.5 in c:\\users\\public\\anaconda3\\lib\\site-packages (from python-dateutil>=2.6.1->pandas>=0.25->pytrends) (1.15.0)\n",
      "Installing collected packages: pytrends\n",
      "Successfully installed pytrends-4.7.3\n"
     ]
    }
   ],
   "source": [
    "# !pip install pytrends"
   ]
  },
  {
   "cell_type": "markdown",
   "metadata": {},
   "source": [
    "# import libraries"
   ]
  },
  {
   "cell_type": "code",
   "execution_count": 1,
   "metadata": {
    "ExecuteTime": {
     "end_time": "2021-12-16T12:56:45.928625Z",
     "start_time": "2021-12-16T12:56:44.545287Z"
    }
   },
   "outputs": [],
   "source": [
    "import pandas as pd         \n",
    "# connect to google\n",
    "from pytrends.request import TrendReq\n",
    "pytrends = TrendReq(hl='en-US') #pytrends = TrendReq(hl='en-US', tz=360) \n",
    "\n",
    "from tqdm.notebook import tqdm"
   ]
  },
  {
   "cell_type": "markdown",
   "metadata": {},
   "source": [
    "# interest by region"
   ]
  },
  {
   "cell_type": "markdown",
   "metadata": {},
   "source": [
    "## build payload\n",
    "i.e. list of key words"
   ]
  },
  {
   "cell_type": "code",
   "execution_count": 19,
   "metadata": {
    "ExecuteTime": {
     "end_time": "2021-12-16T12:06:12.784054Z",
     "start_time": "2021-12-16T12:06:12.779049Z"
    }
   },
   "outputs": [
    {
     "name": "stdout",
     "output_type": "stream",
     "text": [
      "Help on method build_payload in module pytrends.request:\n",
      "\n",
      "build_payload(kw_list, cat=0, timeframe='today 5-y', geo='', gprop='') method of pytrends.request.TrendReq instance\n",
      "    Create the payload for related queries, interest over time and interest by region\n",
      "\n"
     ]
    }
   ],
   "source": [
    "help(pytrends.build_payload)"
   ]
  },
  {
   "cell_type": "code",
   "execution_count": 20,
   "metadata": {
    "ExecuteTime": {
     "end_time": "2021-12-16T13:09:26.427833Z",
     "start_time": "2021-12-16T13:09:26.409817Z"
    }
   },
   "outputs": [
    {
     "data": {
      "text/plain": [
       "{'Global': '',\n",
       " 'Australia': 'AU',\n",
       " 'New Zealand': 'NZ',\n",
       " 'Singapore': 'SG',\n",
       " 'Canada': 'CA',\n",
       " 'United Kingdom': 'GB',\n",
       " 'United States': 'US',\n",
       " 'France': 'FR',\n",
       " 'Spain': 'ES',\n",
       " 'Japan': 'JP',\n",
       " 'South Korea': 'KR',\n",
       " 'New South Wales': 'AU-NSW',\n",
       " 'Victoria': 'AU-VIC',\n",
       " 'Queensland': 'AU-QLD',\n",
       " 'South Australia': 'AU-SA',\n",
       " 'Western Australia': 'AU-WA',\n",
       " 'Tasmania': 'AU-TAS',\n",
       " 'Northern Territory': 'AU-NT'}"
      ]
     },
     "execution_count": 20,
     "metadata": {},
     "output_type": "execute_result"
    }
   ],
   "source": [
    "pytrend_geo_codes = {}\n",
    "# add keys to dictionary https://stackoverflow.com/questions/1024847/how-can-i-add-new-keys-to-a-dictionary\n",
    "\n",
    "# pytrend_geo_codes['Global'] = ''\n",
    "\n",
    "pytrend_geo_codes['Australia'] = 'AU'\n",
    "pytrend_geo_codes['New Zealand'] = 'NZ'\n",
    "pytrend_geo_codes['Singapore'] = 'SG'\n",
    "\n",
    "pytrend_geo_codes['Canada'] = 'CA'\n",
    "pytrend_geo_codes['United Kingdom'] = 'GB'\n",
    "pytrend_geo_codes['United States'] = 'US'\n",
    "\n",
    "pytrend_geo_codes['France'] = 'FR'\n",
    "pytrend_geo_codes['Spain'] = 'ES'\n",
    "pytrend_geo_codes['Japan'] = 'JP'\n",
    "pytrend_geo_codes['South Korea'] = 'KR'\n",
    "\n",
    "pytrend_geo_codes['New South Wales'] = 'AU-NSW'\n",
    "pytrend_geo_codes['Victoria'] = 'AU-VIC'\n",
    "pytrend_geo_codes['Queensland'] = 'AU-QLD'\n",
    "pytrend_geo_codes['South Australia'] = 'AU-SA'\n",
    "pytrend_geo_codes['Western Australia'] = 'AU-WA'\n",
    "pytrend_geo_codes['Tasmania'] = 'AU-TAS'\n",
    "pytrend_geo_codes['Northern Territory'] = 'AU-NT'\n",
    "\n",
    "\n",
    "pytrend_geo_codes"
   ]
  },
  {
   "cell_type": "code",
   "execution_count": 84,
   "metadata": {
    "ExecuteTime": {
     "end_time": "2021-12-16T12:48:48.973327Z",
     "start_time": "2021-12-16T12:48:48.966320Z"
    }
   },
   "outputs": [
    {
     "name": "stdout",
     "output_type": "stream",
     "text": [
      "Australia AU\n"
     ]
    }
   ],
   "source": [
    "# pytrend_geo_codes['Australia']\n",
    "for key in list(pytrend_geo_codes.keys())[:1]: #.values()\n",
    "    print(key, pytrend_geo_codes[key])"
   ]
  },
  {
   "cell_type": "code",
   "execution_count": 24,
   "metadata": {
    "ExecuteTime": {
     "end_time": "2021-12-16T13:11:51.441103Z",
     "start_time": "2021-12-16T13:11:49.498500Z"
    }
   },
   "outputs": [
    {
     "data": {
      "application/vnd.jupyter.widget-view+json": {
       "model_id": "27dfea3a20ac47edaed1a27691abab43",
       "version_major": 2,
       "version_minor": 0
      },
      "text/plain": [
       "Loop through regions:   0%|          | 0/1 [00:00<?, ?it/s]"
      ]
     },
     "metadata": {},
     "output_type": "display_data"
    },
    {
     "name": "stdout",
     "output_type": "stream",
     "text": [
      "<class 'pandas.core.frame.DataFrame'>\n",
      "Int64Index: 260 entries, 0 to 259\n",
      "Data columns (total 7 columns):\n",
      " #   Column          Non-Null Count  Dtype         \n",
      "---  ------          --------------  -----         \n",
      " 0   DATE            260 non-null    datetime64[ns]\n",
      " 1   BUSINESS CARDS  260 non-null    int32         \n",
      " 2   BUSINESS CARD   260 non-null    int32         \n",
      " 3   ISPARTIAL       260 non-null    object        \n",
      " 4   DATA EXTRACTED  260 non-null    object        \n",
      " 5   REGION          260 non-null    object        \n",
      " 6   GEO             260 non-null    object        \n",
      "dtypes: datetime64[ns](1), int32(2), object(4)\n",
      "memory usage: 14.2+ KB\n",
      "None\n",
      "        DATE  BUSINESS CARDS  BUSINESS CARD ISPARTIAL DATA EXTRACTED  REGION  \\\n",
      "0 2016-12-18               0              0     False     2021-12-17  Global   \n",
      "1 2016-12-25               0             69     False     2021-12-17  Global   \n",
      "\n",
      "      GEO  \n",
      "0  GLOBAL  \n",
      "1  GLOBAL  \n",
      "          DATE  BUSINESS CARDS  BUSINESS CARD ISPARTIAL DATA EXTRACTED  \\\n",
      "258 2021-11-28               0              0     False     2021-12-17   \n",
      "259 2021-12-05               0             36     False     2021-12-17   \n",
      "\n",
      "     REGION     GEO  \n",
      "258  Global  GLOBAL  \n",
      "259  Global  GLOBAL  \n"
     ]
    }
   ],
   "source": [
    "# build payload\n",
    "\n",
    "kw_list = [\"business cards\", 'business card'] # list of keywords to get data \n",
    "timeframe = 'today 5-y' #'today 12-m'\n",
    "df_agg = pd.DataFrame() # DataFrame to store all data\n",
    "    \n",
    "for key in tqdm(list(pytrend_geo_codes.keys())[:1], desc='Loop through regions'): #.values()\n",
    "#     print(key, pytrend_geo_codes[key])\n",
    "\n",
    "    # pytrends.build_payload(kw_list, cat=0, timeframe='today 12-m') \n",
    "    # pytrends.build_payload(kw_list, cat=0, timeframe=timeframe, geo='AU') # Australia\n",
    "    # pytrends.build_payload(kw_list, cat=0, timeframe=timeframe, geo='NZ') # New Zealand\n",
    "    pytrends.build_payload(kw_list, cat=0, timeframe=timeframe, geo=pytrend_geo_codes[key]) # New South Wales\n",
    "\n",
    "    #1 Interest over Time\n",
    "    data = pytrends.interest_over_time() \n",
    "    data = data.reset_index() \n",
    "\n",
    "    data.columns = data.columns.str.strip()\n",
    "    data.columns = data.columns.str.upper()\n",
    "\n",
    "    # https://www.programiz.com/python-programming/datetime/current-datetime\n",
    "    from datetime import date\n",
    "    today = date.today()\n",
    "#     print(\"Today's date:\", today)\n",
    "\n",
    "    # put extraction date on table\n",
    "    data.loc[:, 'DATA EXTRACTED'] = today\n",
    "    # data.info()\n",
    "    # data\n",
    "\n",
    "    # add geo to table\n",
    "    data.loc[:, 'REGION'] = key\n",
    "    if key == 'Global':\n",
    "        data.loc[:, 'GEO'] = 'GLOBAL'\n",
    "    else:\n",
    "        data.loc[:, 'GEO'] = pytrend_geo_codes[key]\n",
    "    \n",
    "\n",
    "    # delete partial weeks\n",
    "    data = data[data['ISPARTIAL']=='False']\n",
    "#     data.info()\n",
    "#     print(data)\n",
    "    # add to consolidated DataFrame\n",
    "    \n",
    "    df_agg = df_agg.append(data)\n",
    "    \n",
    "print(df_agg.info())\n",
    "print(df_agg.head(2))\n",
    "print(df_agg.tail(2))"
   ]
  },
  {
   "cell_type": "code",
   "execution_count": 25,
   "metadata": {
    "ExecuteTime": {
     "end_time": "2021-12-16T13:11:55.232267Z",
     "start_time": "2021-12-16T13:11:55.207243Z"
    }
   },
   "outputs": [
    {
     "name": "stdout",
     "output_type": "stream",
     "text": [
      "<class 'pandas.core.frame.DataFrame'>\n",
      "RangeIndex: 260 entries, 0 to 259\n",
      "Data columns (total 2 columns):\n",
      " #   Column  Non-Null Count  Dtype \n",
      "---  ------  --------------  ----- \n",
      " 0   DATE    260 non-null    object\n",
      " 1   GLOBAL  260 non-null    int64 \n",
      "dtypes: int64(1), object(1)\n",
      "memory usage: 4.2+ KB\n",
      "None\n",
      "           DATE  GLOBAL\n",
      "0    2016-12-18       0\n",
      "1    2016-12-25      69\n",
      "2    2017-01-01       0\n",
      "3    2017-01-08       0\n",
      "4    2017-01-15       0\n",
      "..          ...     ...\n",
      "255  2021-11-07       0\n",
      "256  2021-11-14       0\n",
      "257  2021-11-21       0\n",
      "258  2021-11-28       0\n",
      "259  2021-12-05      36\n",
      "\n",
      "[260 rows x 2 columns]\n"
     ]
    }
   ],
   "source": [
    "# process and export data\n",
    "\n",
    "df_agg.loc[:, 'INDEX'] = df_agg['BUSINESS CARDS']+df_agg['BUSINESS CARD']\n",
    "\n",
    "\n",
    "df = pd.pivot_table(df_agg, values = 'INDEX', index='DATE', columns = 'GEO').reset_index()\n",
    "# df.columns\n",
    "df.to_csv(\"data/google_trends_bc.csv\", index=False)\n",
    "df = pd.read_csv(\"data/google_trends_bc.csv\")\n",
    "print(df.info())\n",
    "print(df)"
   ]
  },
  {
   "cell_type": "code",
   "execution_count": 27,
   "metadata": {
    "ExecuteTime": {
     "end_time": "2021-12-16T13:12:02.310266Z",
     "start_time": "2021-12-16T13:12:02.255217Z"
    }
   },
   "outputs": [
    {
     "data": {
      "application/vnd.plotly.v1+json": {
       "config": {
        "plotlyServerURL": "https://plot.ly"
       },
       "data": [
        {
         "hovertemplate": "variable=GLOBAL<br>DATE=%{x}<br>value=%{y}<extra></extra>",
         "legendgroup": "GLOBAL",
         "line": {
          "color": "#636efa",
          "dash": "solid"
         },
         "marker": {
          "symbol": "circle"
         },
         "mode": "lines",
         "name": "GLOBAL",
         "orientation": "v",
         "showlegend": true,
         "type": "scatter",
         "x": [
          "2016-12-18",
          "2016-12-25",
          "2017-01-01",
          "2017-01-08",
          "2017-01-15",
          "2017-01-22",
          "2017-01-29",
          "2017-02-05",
          "2017-02-12",
          "2017-02-19",
          "2017-02-26",
          "2017-03-05",
          "2017-03-12",
          "2017-03-19",
          "2017-03-26",
          "2017-04-02",
          "2017-04-09",
          "2017-04-16",
          "2017-04-23",
          "2017-04-30",
          "2017-05-07",
          "2017-05-14",
          "2017-05-21",
          "2017-05-28",
          "2017-06-04",
          "2017-06-11",
          "2017-06-18",
          "2017-06-25",
          "2017-07-02",
          "2017-07-09",
          "2017-07-16",
          "2017-07-23",
          "2017-07-30",
          "2017-08-06",
          "2017-08-13",
          "2017-08-20",
          "2017-08-27",
          "2017-09-03",
          "2017-09-10",
          "2017-09-17",
          "2017-09-24",
          "2017-10-01",
          "2017-10-08",
          "2017-10-15",
          "2017-10-22",
          "2017-10-29",
          "2017-11-05",
          "2017-11-12",
          "2017-11-19",
          "2017-11-26",
          "2017-12-03",
          "2017-12-10",
          "2017-12-17",
          "2017-12-24",
          "2017-12-31",
          "2018-01-07",
          "2018-01-14",
          "2018-01-21",
          "2018-01-28",
          "2018-02-04",
          "2018-02-11",
          "2018-02-18",
          "2018-02-25",
          "2018-03-04",
          "2018-03-11",
          "2018-03-18",
          "2018-03-25",
          "2018-04-01",
          "2018-04-08",
          "2018-04-15",
          "2018-04-22",
          "2018-04-29",
          "2018-05-06",
          "2018-05-13",
          "2018-05-20",
          "2018-05-27",
          "2018-06-03",
          "2018-06-10",
          "2018-06-17",
          "2018-06-24",
          "2018-07-01",
          "2018-07-08",
          "2018-07-15",
          "2018-07-22",
          "2018-07-29",
          "2018-08-05",
          "2018-08-12",
          "2018-08-19",
          "2018-08-26",
          "2018-09-02",
          "2018-09-09",
          "2018-09-16",
          "2018-09-23",
          "2018-09-30",
          "2018-10-07",
          "2018-10-14",
          "2018-10-21",
          "2018-10-28",
          "2018-11-04",
          "2018-11-11",
          "2018-11-18",
          "2018-11-25",
          "2018-12-02",
          "2018-12-09",
          "2018-12-16",
          "2018-12-23",
          "2018-12-30",
          "2019-01-06",
          "2019-01-13",
          "2019-01-20",
          "2019-01-27",
          "2019-02-03",
          "2019-02-10",
          "2019-02-17",
          "2019-02-24",
          "2019-03-03",
          "2019-03-10",
          "2019-03-17",
          "2019-03-24",
          "2019-03-31",
          "2019-04-07",
          "2019-04-14",
          "2019-04-21",
          "2019-04-28",
          "2019-05-05",
          "2019-05-12",
          "2019-05-19",
          "2019-05-26",
          "2019-06-02",
          "2019-06-09",
          "2019-06-16",
          "2019-06-23",
          "2019-06-30",
          "2019-07-07",
          "2019-07-14",
          "2019-07-21",
          "2019-07-28",
          "2019-08-04",
          "2019-08-11",
          "2019-08-18",
          "2019-08-25",
          "2019-09-01",
          "2019-09-08",
          "2019-09-15",
          "2019-09-22",
          "2019-09-29",
          "2019-10-06",
          "2019-10-13",
          "2019-10-20",
          "2019-10-27",
          "2019-11-03",
          "2019-11-10",
          "2019-11-17",
          "2019-11-24",
          "2019-12-01",
          "2019-12-08",
          "2019-12-15",
          "2019-12-22",
          "2019-12-29",
          "2020-01-05",
          "2020-01-12",
          "2020-01-19",
          "2020-01-26",
          "2020-02-02",
          "2020-02-09",
          "2020-02-16",
          "2020-02-23",
          "2020-03-01",
          "2020-03-08",
          "2020-03-15",
          "2020-03-22",
          "2020-03-29",
          "2020-04-05",
          "2020-04-12",
          "2020-04-19",
          "2020-04-26",
          "2020-05-03",
          "2020-05-10",
          "2020-05-17",
          "2020-05-24",
          "2020-05-31",
          "2020-06-07",
          "2020-06-14",
          "2020-06-21",
          "2020-06-28",
          "2020-07-05",
          "2020-07-12",
          "2020-07-19",
          "2020-07-26",
          "2020-08-02",
          "2020-08-09",
          "2020-08-16",
          "2020-08-23",
          "2020-08-30",
          "2020-09-06",
          "2020-09-13",
          "2020-09-20",
          "2020-09-27",
          "2020-10-04",
          "2020-10-11",
          "2020-10-18",
          "2020-10-25",
          "2020-11-01",
          "2020-11-08",
          "2020-11-15",
          "2020-11-22",
          "2020-11-29",
          "2020-12-06",
          "2020-12-13",
          "2020-12-20",
          "2020-12-27",
          "2021-01-03",
          "2021-01-10",
          "2021-01-17",
          "2021-01-24",
          "2021-01-31",
          "2021-02-07",
          "2021-02-14",
          "2021-02-21",
          "2021-02-28",
          "2021-03-07",
          "2021-03-14",
          "2021-03-21",
          "2021-03-28",
          "2021-04-04",
          "2021-04-11",
          "2021-04-18",
          "2021-04-25",
          "2021-05-02",
          "2021-05-09",
          "2021-05-16",
          "2021-05-23",
          "2021-05-30",
          "2021-06-06",
          "2021-06-13",
          "2021-06-20",
          "2021-06-27",
          "2021-07-04",
          "2021-07-11",
          "2021-07-18",
          "2021-07-25",
          "2021-08-01",
          "2021-08-08",
          "2021-08-15",
          "2021-08-22",
          "2021-08-29",
          "2021-09-05",
          "2021-09-12",
          "2021-09-19",
          "2021-09-26",
          "2021-10-03",
          "2021-10-10",
          "2021-10-17",
          "2021-10-24",
          "2021-10-31",
          "2021-11-07",
          "2021-11-14",
          "2021-11-21",
          "2021-11-28",
          "2021-12-05"
         ],
         "xaxis": "x",
         "y": [
          0,
          69,
          0,
          0,
          0,
          0,
          0,
          0,
          54,
          57,
          108,
          55,
          0,
          58,
          0,
          0,
          0,
          0,
          0,
          0,
          0,
          0,
          59,
          0,
          0,
          0,
          0,
          0,
          0,
          0,
          0,
          0,
          0,
          0,
          48,
          0,
          0,
          0,
          52,
          0,
          0,
          0,
          0,
          0,
          0,
          0,
          51,
          0,
          48,
          0,
          0,
          102,
          0,
          0,
          0,
          52,
          0,
          0,
          0,
          0,
          0,
          0,
          0,
          0,
          0,
          0,
          0,
          98,
          0,
          0,
          0,
          0,
          0,
          0,
          46,
          0,
          0,
          0,
          0,
          0,
          0,
          0,
          0,
          0,
          0,
          90,
          0,
          0,
          0,
          0,
          0,
          50,
          0,
          0,
          104,
          0,
          0,
          48,
          0,
          0,
          0,
          0,
          51,
          0,
          57,
          0,
          0,
          0,
          50,
          0,
          0,
          51,
          0,
          0,
          150,
          0,
          0,
          0,
          0,
          0,
          94,
          0,
          0,
          0,
          0,
          0,
          0,
          0,
          0,
          0,
          0,
          0,
          47,
          0,
          0,
          0,
          0,
          0,
          0,
          0,
          0,
          0,
          0,
          0,
          45,
          0,
          46,
          0,
          47,
          0,
          0,
          0,
          0,
          0,
          0,
          0,
          0,
          0,
          0,
          0,
          0,
          46,
          0,
          0,
          0,
          87,
          0,
          0,
          0,
          80,
          0,
          0,
          0,
          0,
          0,
          0,
          0,
          0,
          39,
          40,
          0,
          0,
          0,
          0,
          45,
          47,
          0,
          0,
          0,
          44,
          0,
          0,
          0,
          0,
          0,
          0,
          0,
          0,
          0,
          0,
          0,
          0,
          0,
          0,
          0,
          0,
          0,
          0,
          48,
          0,
          102,
          48,
          0,
          0,
          47,
          0,
          0,
          0,
          0,
          0,
          0,
          47,
          0,
          49,
          0,
          0,
          0,
          0,
          0,
          0,
          44,
          0,
          44,
          0,
          0,
          0,
          0,
          0,
          0,
          0,
          0,
          0,
          43,
          0,
          0,
          0,
          0,
          0,
          49,
          0,
          0,
          34,
          0,
          0,
          0,
          0,
          0,
          0,
          0,
          36
         ],
         "yaxis": "y"
        }
       ],
       "layout": {
        "legend": {
         "title": {
          "text": "variable"
         },
         "tracegroupgap": 0
        },
        "template": {
         "data": {
          "bar": [
           {
            "error_x": {
             "color": "#2a3f5f"
            },
            "error_y": {
             "color": "#2a3f5f"
            },
            "marker": {
             "line": {
              "color": "#E5ECF6",
              "width": 0.5
             },
             "pattern": {
              "fillmode": "overlay",
              "size": 10,
              "solidity": 0.2
             }
            },
            "type": "bar"
           }
          ],
          "barpolar": [
           {
            "marker": {
             "line": {
              "color": "#E5ECF6",
              "width": 0.5
             },
             "pattern": {
              "fillmode": "overlay",
              "size": 10,
              "solidity": 0.2
             }
            },
            "type": "barpolar"
           }
          ],
          "carpet": [
           {
            "aaxis": {
             "endlinecolor": "#2a3f5f",
             "gridcolor": "white",
             "linecolor": "white",
             "minorgridcolor": "white",
             "startlinecolor": "#2a3f5f"
            },
            "baxis": {
             "endlinecolor": "#2a3f5f",
             "gridcolor": "white",
             "linecolor": "white",
             "minorgridcolor": "white",
             "startlinecolor": "#2a3f5f"
            },
            "type": "carpet"
           }
          ],
          "choropleth": [
           {
            "colorbar": {
             "outlinewidth": 0,
             "ticks": ""
            },
            "type": "choropleth"
           }
          ],
          "contour": [
           {
            "colorbar": {
             "outlinewidth": 0,
             "ticks": ""
            },
            "colorscale": [
             [
              0,
              "#0d0887"
             ],
             [
              0.1111111111111111,
              "#46039f"
             ],
             [
              0.2222222222222222,
              "#7201a8"
             ],
             [
              0.3333333333333333,
              "#9c179e"
             ],
             [
              0.4444444444444444,
              "#bd3786"
             ],
             [
              0.5555555555555556,
              "#d8576b"
             ],
             [
              0.6666666666666666,
              "#ed7953"
             ],
             [
              0.7777777777777778,
              "#fb9f3a"
             ],
             [
              0.8888888888888888,
              "#fdca26"
             ],
             [
              1,
              "#f0f921"
             ]
            ],
            "type": "contour"
           }
          ],
          "contourcarpet": [
           {
            "colorbar": {
             "outlinewidth": 0,
             "ticks": ""
            },
            "type": "contourcarpet"
           }
          ],
          "heatmap": [
           {
            "colorbar": {
             "outlinewidth": 0,
             "ticks": ""
            },
            "colorscale": [
             [
              0,
              "#0d0887"
             ],
             [
              0.1111111111111111,
              "#46039f"
             ],
             [
              0.2222222222222222,
              "#7201a8"
             ],
             [
              0.3333333333333333,
              "#9c179e"
             ],
             [
              0.4444444444444444,
              "#bd3786"
             ],
             [
              0.5555555555555556,
              "#d8576b"
             ],
             [
              0.6666666666666666,
              "#ed7953"
             ],
             [
              0.7777777777777778,
              "#fb9f3a"
             ],
             [
              0.8888888888888888,
              "#fdca26"
             ],
             [
              1,
              "#f0f921"
             ]
            ],
            "type": "heatmap"
           }
          ],
          "heatmapgl": [
           {
            "colorbar": {
             "outlinewidth": 0,
             "ticks": ""
            },
            "colorscale": [
             [
              0,
              "#0d0887"
             ],
             [
              0.1111111111111111,
              "#46039f"
             ],
             [
              0.2222222222222222,
              "#7201a8"
             ],
             [
              0.3333333333333333,
              "#9c179e"
             ],
             [
              0.4444444444444444,
              "#bd3786"
             ],
             [
              0.5555555555555556,
              "#d8576b"
             ],
             [
              0.6666666666666666,
              "#ed7953"
             ],
             [
              0.7777777777777778,
              "#fb9f3a"
             ],
             [
              0.8888888888888888,
              "#fdca26"
             ],
             [
              1,
              "#f0f921"
             ]
            ],
            "type": "heatmapgl"
           }
          ],
          "histogram": [
           {
            "marker": {
             "pattern": {
              "fillmode": "overlay",
              "size": 10,
              "solidity": 0.2
             }
            },
            "type": "histogram"
           }
          ],
          "histogram2d": [
           {
            "colorbar": {
             "outlinewidth": 0,
             "ticks": ""
            },
            "colorscale": [
             [
              0,
              "#0d0887"
             ],
             [
              0.1111111111111111,
              "#46039f"
             ],
             [
              0.2222222222222222,
              "#7201a8"
             ],
             [
              0.3333333333333333,
              "#9c179e"
             ],
             [
              0.4444444444444444,
              "#bd3786"
             ],
             [
              0.5555555555555556,
              "#d8576b"
             ],
             [
              0.6666666666666666,
              "#ed7953"
             ],
             [
              0.7777777777777778,
              "#fb9f3a"
             ],
             [
              0.8888888888888888,
              "#fdca26"
             ],
             [
              1,
              "#f0f921"
             ]
            ],
            "type": "histogram2d"
           }
          ],
          "histogram2dcontour": [
           {
            "colorbar": {
             "outlinewidth": 0,
             "ticks": ""
            },
            "colorscale": [
             [
              0,
              "#0d0887"
             ],
             [
              0.1111111111111111,
              "#46039f"
             ],
             [
              0.2222222222222222,
              "#7201a8"
             ],
             [
              0.3333333333333333,
              "#9c179e"
             ],
             [
              0.4444444444444444,
              "#bd3786"
             ],
             [
              0.5555555555555556,
              "#d8576b"
             ],
             [
              0.6666666666666666,
              "#ed7953"
             ],
             [
              0.7777777777777778,
              "#fb9f3a"
             ],
             [
              0.8888888888888888,
              "#fdca26"
             ],
             [
              1,
              "#f0f921"
             ]
            ],
            "type": "histogram2dcontour"
           }
          ],
          "mesh3d": [
           {
            "colorbar": {
             "outlinewidth": 0,
             "ticks": ""
            },
            "type": "mesh3d"
           }
          ],
          "parcoords": [
           {
            "line": {
             "colorbar": {
              "outlinewidth": 0,
              "ticks": ""
             }
            },
            "type": "parcoords"
           }
          ],
          "pie": [
           {
            "automargin": true,
            "type": "pie"
           }
          ],
          "scatter": [
           {
            "marker": {
             "colorbar": {
              "outlinewidth": 0,
              "ticks": ""
             }
            },
            "type": "scatter"
           }
          ],
          "scatter3d": [
           {
            "line": {
             "colorbar": {
              "outlinewidth": 0,
              "ticks": ""
             }
            },
            "marker": {
             "colorbar": {
              "outlinewidth": 0,
              "ticks": ""
             }
            },
            "type": "scatter3d"
           }
          ],
          "scattercarpet": [
           {
            "marker": {
             "colorbar": {
              "outlinewidth": 0,
              "ticks": ""
             }
            },
            "type": "scattercarpet"
           }
          ],
          "scattergeo": [
           {
            "marker": {
             "colorbar": {
              "outlinewidth": 0,
              "ticks": ""
             }
            },
            "type": "scattergeo"
           }
          ],
          "scattergl": [
           {
            "marker": {
             "colorbar": {
              "outlinewidth": 0,
              "ticks": ""
             }
            },
            "type": "scattergl"
           }
          ],
          "scattermapbox": [
           {
            "marker": {
             "colorbar": {
              "outlinewidth": 0,
              "ticks": ""
             }
            },
            "type": "scattermapbox"
           }
          ],
          "scatterpolar": [
           {
            "marker": {
             "colorbar": {
              "outlinewidth": 0,
              "ticks": ""
             }
            },
            "type": "scatterpolar"
           }
          ],
          "scatterpolargl": [
           {
            "marker": {
             "colorbar": {
              "outlinewidth": 0,
              "ticks": ""
             }
            },
            "type": "scatterpolargl"
           }
          ],
          "scatterternary": [
           {
            "marker": {
             "colorbar": {
              "outlinewidth": 0,
              "ticks": ""
             }
            },
            "type": "scatterternary"
           }
          ],
          "surface": [
           {
            "colorbar": {
             "outlinewidth": 0,
             "ticks": ""
            },
            "colorscale": [
             [
              0,
              "#0d0887"
             ],
             [
              0.1111111111111111,
              "#46039f"
             ],
             [
              0.2222222222222222,
              "#7201a8"
             ],
             [
              0.3333333333333333,
              "#9c179e"
             ],
             [
              0.4444444444444444,
              "#bd3786"
             ],
             [
              0.5555555555555556,
              "#d8576b"
             ],
             [
              0.6666666666666666,
              "#ed7953"
             ],
             [
              0.7777777777777778,
              "#fb9f3a"
             ],
             [
              0.8888888888888888,
              "#fdca26"
             ],
             [
              1,
              "#f0f921"
             ]
            ],
            "type": "surface"
           }
          ],
          "table": [
           {
            "cells": {
             "fill": {
              "color": "#EBF0F8"
             },
             "line": {
              "color": "white"
             }
            },
            "header": {
             "fill": {
              "color": "#C8D4E3"
             },
             "line": {
              "color": "white"
             }
            },
            "type": "table"
           }
          ]
         },
         "layout": {
          "annotationdefaults": {
           "arrowcolor": "#2a3f5f",
           "arrowhead": 0,
           "arrowwidth": 1
          },
          "autotypenumbers": "strict",
          "coloraxis": {
           "colorbar": {
            "outlinewidth": 0,
            "ticks": ""
           }
          },
          "colorscale": {
           "diverging": [
            [
             0,
             "#8e0152"
            ],
            [
             0.1,
             "#c51b7d"
            ],
            [
             0.2,
             "#de77ae"
            ],
            [
             0.3,
             "#f1b6da"
            ],
            [
             0.4,
             "#fde0ef"
            ],
            [
             0.5,
             "#f7f7f7"
            ],
            [
             0.6,
             "#e6f5d0"
            ],
            [
             0.7,
             "#b8e186"
            ],
            [
             0.8,
             "#7fbc41"
            ],
            [
             0.9,
             "#4d9221"
            ],
            [
             1,
             "#276419"
            ]
           ],
           "sequential": [
            [
             0,
             "#0d0887"
            ],
            [
             0.1111111111111111,
             "#46039f"
            ],
            [
             0.2222222222222222,
             "#7201a8"
            ],
            [
             0.3333333333333333,
             "#9c179e"
            ],
            [
             0.4444444444444444,
             "#bd3786"
            ],
            [
             0.5555555555555556,
             "#d8576b"
            ],
            [
             0.6666666666666666,
             "#ed7953"
            ],
            [
             0.7777777777777778,
             "#fb9f3a"
            ],
            [
             0.8888888888888888,
             "#fdca26"
            ],
            [
             1,
             "#f0f921"
            ]
           ],
           "sequentialminus": [
            [
             0,
             "#0d0887"
            ],
            [
             0.1111111111111111,
             "#46039f"
            ],
            [
             0.2222222222222222,
             "#7201a8"
            ],
            [
             0.3333333333333333,
             "#9c179e"
            ],
            [
             0.4444444444444444,
             "#bd3786"
            ],
            [
             0.5555555555555556,
             "#d8576b"
            ],
            [
             0.6666666666666666,
             "#ed7953"
            ],
            [
             0.7777777777777778,
             "#fb9f3a"
            ],
            [
             0.8888888888888888,
             "#fdca26"
            ],
            [
             1,
             "#f0f921"
            ]
           ]
          },
          "colorway": [
           "#636efa",
           "#EF553B",
           "#00cc96",
           "#ab63fa",
           "#FFA15A",
           "#19d3f3",
           "#FF6692",
           "#B6E880",
           "#FF97FF",
           "#FECB52"
          ],
          "font": {
           "color": "#2a3f5f"
          },
          "geo": {
           "bgcolor": "white",
           "lakecolor": "white",
           "landcolor": "#E5ECF6",
           "showlakes": true,
           "showland": true,
           "subunitcolor": "white"
          },
          "hoverlabel": {
           "align": "left"
          },
          "hovermode": "closest",
          "mapbox": {
           "style": "light"
          },
          "paper_bgcolor": "white",
          "plot_bgcolor": "#E5ECF6",
          "polar": {
           "angularaxis": {
            "gridcolor": "white",
            "linecolor": "white",
            "ticks": ""
           },
           "bgcolor": "#E5ECF6",
           "radialaxis": {
            "gridcolor": "white",
            "linecolor": "white",
            "ticks": ""
           }
          },
          "scene": {
           "xaxis": {
            "backgroundcolor": "#E5ECF6",
            "gridcolor": "white",
            "gridwidth": 2,
            "linecolor": "white",
            "showbackground": true,
            "ticks": "",
            "zerolinecolor": "white"
           },
           "yaxis": {
            "backgroundcolor": "#E5ECF6",
            "gridcolor": "white",
            "gridwidth": 2,
            "linecolor": "white",
            "showbackground": true,
            "ticks": "",
            "zerolinecolor": "white"
           },
           "zaxis": {
            "backgroundcolor": "#E5ECF6",
            "gridcolor": "white",
            "gridwidth": 2,
            "linecolor": "white",
            "showbackground": true,
            "ticks": "",
            "zerolinecolor": "white"
           }
          },
          "shapedefaults": {
           "line": {
            "color": "#2a3f5f"
           }
          },
          "ternary": {
           "aaxis": {
            "gridcolor": "white",
            "linecolor": "white",
            "ticks": ""
           },
           "baxis": {
            "gridcolor": "white",
            "linecolor": "white",
            "ticks": ""
           },
           "bgcolor": "#E5ECF6",
           "caxis": {
            "gridcolor": "white",
            "linecolor": "white",
            "ticks": ""
           }
          },
          "title": {
           "x": 0.05
          },
          "xaxis": {
           "automargin": true,
           "gridcolor": "white",
           "linecolor": "white",
           "ticks": "",
           "title": {
            "standoff": 15
           },
           "zerolinecolor": "white",
           "zerolinewidth": 2
          },
          "yaxis": {
           "automargin": true,
           "gridcolor": "white",
           "linecolor": "white",
           "ticks": "",
           "title": {
            "standoff": 15
           },
           "zerolinecolor": "white",
           "zerolinewidth": 2
          }
         }
        },
        "title": {
         "text": "Keyword Web Search Interest Over Time"
        },
        "xaxis": {
         "anchor": "y",
         "domain": [
          0,
          1
         ],
         "title": {
          "text": "DATE"
         }
        },
        "yaxis": {
         "anchor": "x",
         "domain": [
          0,
          1
         ],
         "title": {
          "text": "value"
         }
        }
       }
      },
      "text/html": [
       "<div>                            <div id=\"b3f1ca5b-c777-4f5f-ac0a-06357ba27424\" class=\"plotly-graph-div\" style=\"height:525px; width:100%;\"></div>            <script type=\"text/javascript\">                require([\"plotly\"], function(Plotly) {                    window.PLOTLYENV=window.PLOTLYENV || {};                                    if (document.getElementById(\"b3f1ca5b-c777-4f5f-ac0a-06357ba27424\")) {                    Plotly.newPlot(                        \"b3f1ca5b-c777-4f5f-ac0a-06357ba27424\",                        [{\"hovertemplate\":\"variable=GLOBAL<br>DATE=%{x}<br>value=%{y}<extra></extra>\",\"legendgroup\":\"GLOBAL\",\"line\":{\"color\":\"#636efa\",\"dash\":\"solid\"},\"marker\":{\"symbol\":\"circle\"},\"mode\":\"lines\",\"name\":\"GLOBAL\",\"orientation\":\"v\",\"showlegend\":true,\"type\":\"scatter\",\"x\":[\"2016-12-18\",\"2016-12-25\",\"2017-01-01\",\"2017-01-08\",\"2017-01-15\",\"2017-01-22\",\"2017-01-29\",\"2017-02-05\",\"2017-02-12\",\"2017-02-19\",\"2017-02-26\",\"2017-03-05\",\"2017-03-12\",\"2017-03-19\",\"2017-03-26\",\"2017-04-02\",\"2017-04-09\",\"2017-04-16\",\"2017-04-23\",\"2017-04-30\",\"2017-05-07\",\"2017-05-14\",\"2017-05-21\",\"2017-05-28\",\"2017-06-04\",\"2017-06-11\",\"2017-06-18\",\"2017-06-25\",\"2017-07-02\",\"2017-07-09\",\"2017-07-16\",\"2017-07-23\",\"2017-07-30\",\"2017-08-06\",\"2017-08-13\",\"2017-08-20\",\"2017-08-27\",\"2017-09-03\",\"2017-09-10\",\"2017-09-17\",\"2017-09-24\",\"2017-10-01\",\"2017-10-08\",\"2017-10-15\",\"2017-10-22\",\"2017-10-29\",\"2017-11-05\",\"2017-11-12\",\"2017-11-19\",\"2017-11-26\",\"2017-12-03\",\"2017-12-10\",\"2017-12-17\",\"2017-12-24\",\"2017-12-31\",\"2018-01-07\",\"2018-01-14\",\"2018-01-21\",\"2018-01-28\",\"2018-02-04\",\"2018-02-11\",\"2018-02-18\",\"2018-02-25\",\"2018-03-04\",\"2018-03-11\",\"2018-03-18\",\"2018-03-25\",\"2018-04-01\",\"2018-04-08\",\"2018-04-15\",\"2018-04-22\",\"2018-04-29\",\"2018-05-06\",\"2018-05-13\",\"2018-05-20\",\"2018-05-27\",\"2018-06-03\",\"2018-06-10\",\"2018-06-17\",\"2018-06-24\",\"2018-07-01\",\"2018-07-08\",\"2018-07-15\",\"2018-07-22\",\"2018-07-29\",\"2018-08-05\",\"2018-08-12\",\"2018-08-19\",\"2018-08-26\",\"2018-09-02\",\"2018-09-09\",\"2018-09-16\",\"2018-09-23\",\"2018-09-30\",\"2018-10-07\",\"2018-10-14\",\"2018-10-21\",\"2018-10-28\",\"2018-11-04\",\"2018-11-11\",\"2018-11-18\",\"2018-11-25\",\"2018-12-02\",\"2018-12-09\",\"2018-12-16\",\"2018-12-23\",\"2018-12-30\",\"2019-01-06\",\"2019-01-13\",\"2019-01-20\",\"2019-01-27\",\"2019-02-03\",\"2019-02-10\",\"2019-02-17\",\"2019-02-24\",\"2019-03-03\",\"2019-03-10\",\"2019-03-17\",\"2019-03-24\",\"2019-03-31\",\"2019-04-07\",\"2019-04-14\",\"2019-04-21\",\"2019-04-28\",\"2019-05-05\",\"2019-05-12\",\"2019-05-19\",\"2019-05-26\",\"2019-06-02\",\"2019-06-09\",\"2019-06-16\",\"2019-06-23\",\"2019-06-30\",\"2019-07-07\",\"2019-07-14\",\"2019-07-21\",\"2019-07-28\",\"2019-08-04\",\"2019-08-11\",\"2019-08-18\",\"2019-08-25\",\"2019-09-01\",\"2019-09-08\",\"2019-09-15\",\"2019-09-22\",\"2019-09-29\",\"2019-10-06\",\"2019-10-13\",\"2019-10-20\",\"2019-10-27\",\"2019-11-03\",\"2019-11-10\",\"2019-11-17\",\"2019-11-24\",\"2019-12-01\",\"2019-12-08\",\"2019-12-15\",\"2019-12-22\",\"2019-12-29\",\"2020-01-05\",\"2020-01-12\",\"2020-01-19\",\"2020-01-26\",\"2020-02-02\",\"2020-02-09\",\"2020-02-16\",\"2020-02-23\",\"2020-03-01\",\"2020-03-08\",\"2020-03-15\",\"2020-03-22\",\"2020-03-29\",\"2020-04-05\",\"2020-04-12\",\"2020-04-19\",\"2020-04-26\",\"2020-05-03\",\"2020-05-10\",\"2020-05-17\",\"2020-05-24\",\"2020-05-31\",\"2020-06-07\",\"2020-06-14\",\"2020-06-21\",\"2020-06-28\",\"2020-07-05\",\"2020-07-12\",\"2020-07-19\",\"2020-07-26\",\"2020-08-02\",\"2020-08-09\",\"2020-08-16\",\"2020-08-23\",\"2020-08-30\",\"2020-09-06\",\"2020-09-13\",\"2020-09-20\",\"2020-09-27\",\"2020-10-04\",\"2020-10-11\",\"2020-10-18\",\"2020-10-25\",\"2020-11-01\",\"2020-11-08\",\"2020-11-15\",\"2020-11-22\",\"2020-11-29\",\"2020-12-06\",\"2020-12-13\",\"2020-12-20\",\"2020-12-27\",\"2021-01-03\",\"2021-01-10\",\"2021-01-17\",\"2021-01-24\",\"2021-01-31\",\"2021-02-07\",\"2021-02-14\",\"2021-02-21\",\"2021-02-28\",\"2021-03-07\",\"2021-03-14\",\"2021-03-21\",\"2021-03-28\",\"2021-04-04\",\"2021-04-11\",\"2021-04-18\",\"2021-04-25\",\"2021-05-02\",\"2021-05-09\",\"2021-05-16\",\"2021-05-23\",\"2021-05-30\",\"2021-06-06\",\"2021-06-13\",\"2021-06-20\",\"2021-06-27\",\"2021-07-04\",\"2021-07-11\",\"2021-07-18\",\"2021-07-25\",\"2021-08-01\",\"2021-08-08\",\"2021-08-15\",\"2021-08-22\",\"2021-08-29\",\"2021-09-05\",\"2021-09-12\",\"2021-09-19\",\"2021-09-26\",\"2021-10-03\",\"2021-10-10\",\"2021-10-17\",\"2021-10-24\",\"2021-10-31\",\"2021-11-07\",\"2021-11-14\",\"2021-11-21\",\"2021-11-28\",\"2021-12-05\"],\"xaxis\":\"x\",\"y\":[0,69,0,0,0,0,0,0,54,57,108,55,0,58,0,0,0,0,0,0,0,0,59,0,0,0,0,0,0,0,0,0,0,0,48,0,0,0,52,0,0,0,0,0,0,0,51,0,48,0,0,102,0,0,0,52,0,0,0,0,0,0,0,0,0,0,0,98,0,0,0,0,0,0,46,0,0,0,0,0,0,0,0,0,0,90,0,0,0,0,0,50,0,0,104,0,0,48,0,0,0,0,51,0,57,0,0,0,50,0,0,51,0,0,150,0,0,0,0,0,94,0,0,0,0,0,0,0,0,0,0,0,47,0,0,0,0,0,0,0,0,0,0,0,45,0,46,0,47,0,0,0,0,0,0,0,0,0,0,0,0,46,0,0,0,87,0,0,0,80,0,0,0,0,0,0,0,0,39,40,0,0,0,0,45,47,0,0,0,44,0,0,0,0,0,0,0,0,0,0,0,0,0,0,0,0,0,0,48,0,102,48,0,0,47,0,0,0,0,0,0,47,0,49,0,0,0,0,0,0,44,0,44,0,0,0,0,0,0,0,0,0,43,0,0,0,0,0,49,0,0,34,0,0,0,0,0,0,0,36],\"yaxis\":\"y\"}],                        {\"legend\":{\"title\":{\"text\":\"variable\"},\"tracegroupgap\":0},\"template\":{\"data\":{\"bar\":[{\"error_x\":{\"color\":\"#2a3f5f\"},\"error_y\":{\"color\":\"#2a3f5f\"},\"marker\":{\"line\":{\"color\":\"#E5ECF6\",\"width\":0.5},\"pattern\":{\"fillmode\":\"overlay\",\"size\":10,\"solidity\":0.2}},\"type\":\"bar\"}],\"barpolar\":[{\"marker\":{\"line\":{\"color\":\"#E5ECF6\",\"width\":0.5},\"pattern\":{\"fillmode\":\"overlay\",\"size\":10,\"solidity\":0.2}},\"type\":\"barpolar\"}],\"carpet\":[{\"aaxis\":{\"endlinecolor\":\"#2a3f5f\",\"gridcolor\":\"white\",\"linecolor\":\"white\",\"minorgridcolor\":\"white\",\"startlinecolor\":\"#2a3f5f\"},\"baxis\":{\"endlinecolor\":\"#2a3f5f\",\"gridcolor\":\"white\",\"linecolor\":\"white\",\"minorgridcolor\":\"white\",\"startlinecolor\":\"#2a3f5f\"},\"type\":\"carpet\"}],\"choropleth\":[{\"colorbar\":{\"outlinewidth\":0,\"ticks\":\"\"},\"type\":\"choropleth\"}],\"contour\":[{\"colorbar\":{\"outlinewidth\":0,\"ticks\":\"\"},\"colorscale\":[[0.0,\"#0d0887\"],[0.1111111111111111,\"#46039f\"],[0.2222222222222222,\"#7201a8\"],[0.3333333333333333,\"#9c179e\"],[0.4444444444444444,\"#bd3786\"],[0.5555555555555556,\"#d8576b\"],[0.6666666666666666,\"#ed7953\"],[0.7777777777777778,\"#fb9f3a\"],[0.8888888888888888,\"#fdca26\"],[1.0,\"#f0f921\"]],\"type\":\"contour\"}],\"contourcarpet\":[{\"colorbar\":{\"outlinewidth\":0,\"ticks\":\"\"},\"type\":\"contourcarpet\"}],\"heatmap\":[{\"colorbar\":{\"outlinewidth\":0,\"ticks\":\"\"},\"colorscale\":[[0.0,\"#0d0887\"],[0.1111111111111111,\"#46039f\"],[0.2222222222222222,\"#7201a8\"],[0.3333333333333333,\"#9c179e\"],[0.4444444444444444,\"#bd3786\"],[0.5555555555555556,\"#d8576b\"],[0.6666666666666666,\"#ed7953\"],[0.7777777777777778,\"#fb9f3a\"],[0.8888888888888888,\"#fdca26\"],[1.0,\"#f0f921\"]],\"type\":\"heatmap\"}],\"heatmapgl\":[{\"colorbar\":{\"outlinewidth\":0,\"ticks\":\"\"},\"colorscale\":[[0.0,\"#0d0887\"],[0.1111111111111111,\"#46039f\"],[0.2222222222222222,\"#7201a8\"],[0.3333333333333333,\"#9c179e\"],[0.4444444444444444,\"#bd3786\"],[0.5555555555555556,\"#d8576b\"],[0.6666666666666666,\"#ed7953\"],[0.7777777777777778,\"#fb9f3a\"],[0.8888888888888888,\"#fdca26\"],[1.0,\"#f0f921\"]],\"type\":\"heatmapgl\"}],\"histogram\":[{\"marker\":{\"pattern\":{\"fillmode\":\"overlay\",\"size\":10,\"solidity\":0.2}},\"type\":\"histogram\"}],\"histogram2d\":[{\"colorbar\":{\"outlinewidth\":0,\"ticks\":\"\"},\"colorscale\":[[0.0,\"#0d0887\"],[0.1111111111111111,\"#46039f\"],[0.2222222222222222,\"#7201a8\"],[0.3333333333333333,\"#9c179e\"],[0.4444444444444444,\"#bd3786\"],[0.5555555555555556,\"#d8576b\"],[0.6666666666666666,\"#ed7953\"],[0.7777777777777778,\"#fb9f3a\"],[0.8888888888888888,\"#fdca26\"],[1.0,\"#f0f921\"]],\"type\":\"histogram2d\"}],\"histogram2dcontour\":[{\"colorbar\":{\"outlinewidth\":0,\"ticks\":\"\"},\"colorscale\":[[0.0,\"#0d0887\"],[0.1111111111111111,\"#46039f\"],[0.2222222222222222,\"#7201a8\"],[0.3333333333333333,\"#9c179e\"],[0.4444444444444444,\"#bd3786\"],[0.5555555555555556,\"#d8576b\"],[0.6666666666666666,\"#ed7953\"],[0.7777777777777778,\"#fb9f3a\"],[0.8888888888888888,\"#fdca26\"],[1.0,\"#f0f921\"]],\"type\":\"histogram2dcontour\"}],\"mesh3d\":[{\"colorbar\":{\"outlinewidth\":0,\"ticks\":\"\"},\"type\":\"mesh3d\"}],\"parcoords\":[{\"line\":{\"colorbar\":{\"outlinewidth\":0,\"ticks\":\"\"}},\"type\":\"parcoords\"}],\"pie\":[{\"automargin\":true,\"type\":\"pie\"}],\"scatter\":[{\"marker\":{\"colorbar\":{\"outlinewidth\":0,\"ticks\":\"\"}},\"type\":\"scatter\"}],\"scatter3d\":[{\"line\":{\"colorbar\":{\"outlinewidth\":0,\"ticks\":\"\"}},\"marker\":{\"colorbar\":{\"outlinewidth\":0,\"ticks\":\"\"}},\"type\":\"scatter3d\"}],\"scattercarpet\":[{\"marker\":{\"colorbar\":{\"outlinewidth\":0,\"ticks\":\"\"}},\"type\":\"scattercarpet\"}],\"scattergeo\":[{\"marker\":{\"colorbar\":{\"outlinewidth\":0,\"ticks\":\"\"}},\"type\":\"scattergeo\"}],\"scattergl\":[{\"marker\":{\"colorbar\":{\"outlinewidth\":0,\"ticks\":\"\"}},\"type\":\"scattergl\"}],\"scattermapbox\":[{\"marker\":{\"colorbar\":{\"outlinewidth\":0,\"ticks\":\"\"}},\"type\":\"scattermapbox\"}],\"scatterpolar\":[{\"marker\":{\"colorbar\":{\"outlinewidth\":0,\"ticks\":\"\"}},\"type\":\"scatterpolar\"}],\"scatterpolargl\":[{\"marker\":{\"colorbar\":{\"outlinewidth\":0,\"ticks\":\"\"}},\"type\":\"scatterpolargl\"}],\"scatterternary\":[{\"marker\":{\"colorbar\":{\"outlinewidth\":0,\"ticks\":\"\"}},\"type\":\"scatterternary\"}],\"surface\":[{\"colorbar\":{\"outlinewidth\":0,\"ticks\":\"\"},\"colorscale\":[[0.0,\"#0d0887\"],[0.1111111111111111,\"#46039f\"],[0.2222222222222222,\"#7201a8\"],[0.3333333333333333,\"#9c179e\"],[0.4444444444444444,\"#bd3786\"],[0.5555555555555556,\"#d8576b\"],[0.6666666666666666,\"#ed7953\"],[0.7777777777777778,\"#fb9f3a\"],[0.8888888888888888,\"#fdca26\"],[1.0,\"#f0f921\"]],\"type\":\"surface\"}],\"table\":[{\"cells\":{\"fill\":{\"color\":\"#EBF0F8\"},\"line\":{\"color\":\"white\"}},\"header\":{\"fill\":{\"color\":\"#C8D4E3\"},\"line\":{\"color\":\"white\"}},\"type\":\"table\"}]},\"layout\":{\"annotationdefaults\":{\"arrowcolor\":\"#2a3f5f\",\"arrowhead\":0,\"arrowwidth\":1},\"autotypenumbers\":\"strict\",\"coloraxis\":{\"colorbar\":{\"outlinewidth\":0,\"ticks\":\"\"}},\"colorscale\":{\"diverging\":[[0,\"#8e0152\"],[0.1,\"#c51b7d\"],[0.2,\"#de77ae\"],[0.3,\"#f1b6da\"],[0.4,\"#fde0ef\"],[0.5,\"#f7f7f7\"],[0.6,\"#e6f5d0\"],[0.7,\"#b8e186\"],[0.8,\"#7fbc41\"],[0.9,\"#4d9221\"],[1,\"#276419\"]],\"sequential\":[[0.0,\"#0d0887\"],[0.1111111111111111,\"#46039f\"],[0.2222222222222222,\"#7201a8\"],[0.3333333333333333,\"#9c179e\"],[0.4444444444444444,\"#bd3786\"],[0.5555555555555556,\"#d8576b\"],[0.6666666666666666,\"#ed7953\"],[0.7777777777777778,\"#fb9f3a\"],[0.8888888888888888,\"#fdca26\"],[1.0,\"#f0f921\"]],\"sequentialminus\":[[0.0,\"#0d0887\"],[0.1111111111111111,\"#46039f\"],[0.2222222222222222,\"#7201a8\"],[0.3333333333333333,\"#9c179e\"],[0.4444444444444444,\"#bd3786\"],[0.5555555555555556,\"#d8576b\"],[0.6666666666666666,\"#ed7953\"],[0.7777777777777778,\"#fb9f3a\"],[0.8888888888888888,\"#fdca26\"],[1.0,\"#f0f921\"]]},\"colorway\":[\"#636efa\",\"#EF553B\",\"#00cc96\",\"#ab63fa\",\"#FFA15A\",\"#19d3f3\",\"#FF6692\",\"#B6E880\",\"#FF97FF\",\"#FECB52\"],\"font\":{\"color\":\"#2a3f5f\"},\"geo\":{\"bgcolor\":\"white\",\"lakecolor\":\"white\",\"landcolor\":\"#E5ECF6\",\"showlakes\":true,\"showland\":true,\"subunitcolor\":\"white\"},\"hoverlabel\":{\"align\":\"left\"},\"hovermode\":\"closest\",\"mapbox\":{\"style\":\"light\"},\"paper_bgcolor\":\"white\",\"plot_bgcolor\":\"#E5ECF6\",\"polar\":{\"angularaxis\":{\"gridcolor\":\"white\",\"linecolor\":\"white\",\"ticks\":\"\"},\"bgcolor\":\"#E5ECF6\",\"radialaxis\":{\"gridcolor\":\"white\",\"linecolor\":\"white\",\"ticks\":\"\"}},\"scene\":{\"xaxis\":{\"backgroundcolor\":\"#E5ECF6\",\"gridcolor\":\"white\",\"gridwidth\":2,\"linecolor\":\"white\",\"showbackground\":true,\"ticks\":\"\",\"zerolinecolor\":\"white\"},\"yaxis\":{\"backgroundcolor\":\"#E5ECF6\",\"gridcolor\":\"white\",\"gridwidth\":2,\"linecolor\":\"white\",\"showbackground\":true,\"ticks\":\"\",\"zerolinecolor\":\"white\"},\"zaxis\":{\"backgroundcolor\":\"#E5ECF6\",\"gridcolor\":\"white\",\"gridwidth\":2,\"linecolor\":\"white\",\"showbackground\":true,\"ticks\":\"\",\"zerolinecolor\":\"white\"}},\"shapedefaults\":{\"line\":{\"color\":\"#2a3f5f\"}},\"ternary\":{\"aaxis\":{\"gridcolor\":\"white\",\"linecolor\":\"white\",\"ticks\":\"\"},\"baxis\":{\"gridcolor\":\"white\",\"linecolor\":\"white\",\"ticks\":\"\"},\"bgcolor\":\"#E5ECF6\",\"caxis\":{\"gridcolor\":\"white\",\"linecolor\":\"white\",\"ticks\":\"\"}},\"title\":{\"x\":0.05},\"xaxis\":{\"automargin\":true,\"gridcolor\":\"white\",\"linecolor\":\"white\",\"ticks\":\"\",\"title\":{\"standoff\":15},\"zerolinecolor\":\"white\",\"zerolinewidth\":2},\"yaxis\":{\"automargin\":true,\"gridcolor\":\"white\",\"linecolor\":\"white\",\"ticks\":\"\",\"title\":{\"standoff\":15},\"zerolinecolor\":\"white\",\"zerolinewidth\":2}}},\"title\":{\"text\":\"Keyword Web Search Interest Over Time\"},\"xaxis\":{\"anchor\":\"y\",\"domain\":[0.0,1.0],\"title\":{\"text\":\"DATE\"}},\"yaxis\":{\"anchor\":\"x\",\"domain\":[0.0,1.0],\"title\":{\"text\":\"value\"}}},                        {\"responsive\": true}                    ).then(function(){\n",
       "                            \n",
       "var gd = document.getElementById('b3f1ca5b-c777-4f5f-ac0a-06357ba27424');\n",
       "var x = new MutationObserver(function (mutations, observer) {{\n",
       "        var display = window.getComputedStyle(gd).display;\n",
       "        if (!display || display === 'none') {{\n",
       "            console.log([gd, 'removed!']);\n",
       "            Plotly.purge(gd);\n",
       "            observer.disconnect();\n",
       "        }}\n",
       "}});\n",
       "\n",
       "// Listen for the removal of the full notebook cells\n",
       "var notebookContainer = gd.closest('#notebook-container');\n",
       "if (notebookContainer) {{\n",
       "    x.observe(notebookContainer, {childList: true});\n",
       "}}\n",
       "\n",
       "// Listen for the clearing of the current output cell\n",
       "var outputEl = gd.closest('.output');\n",
       "if (outputEl) {{\n",
       "    x.observe(outputEl, {childList: true});\n",
       "}}\n",
       "\n",
       "                        })                };                });            </script>        </div>"
      ]
     },
     "metadata": {},
     "output_type": "display_data"
    }
   ],
   "source": [
    "# print(data)\n",
    "\n",
    "import plotly.express as px\n",
    "# import seaborn as sns\n",
    "# sns.set_style('white')\n",
    "\n",
    "fig = px.line(df, x=\"DATE\", y=['GLOBAL'], title='Keyword Web Search Interest Over Time')\n",
    "fig.show() "
   ]
  },
  {
   "cell_type": "markdown",
   "metadata": {},
   "source": [
    "## historical hourly interest"
   ]
  },
  {
   "cell_type": "code",
   "execution_count": 9,
   "metadata": {
    "ExecuteTime": {
     "end_time": "2021-12-16T12:01:17.575419Z",
     "start_time": "2021-12-16T12:01:04.586096Z"
    }
   },
   "outputs": [
    {
     "data": {
      "text/html": [
       "<div>\n",
       "<style scoped>\n",
       "    .dataframe tbody tr th:only-of-type {\n",
       "        vertical-align: middle;\n",
       "    }\n",
       "\n",
       "    .dataframe tbody tr th {\n",
       "        vertical-align: top;\n",
       "    }\n",
       "\n",
       "    .dataframe thead th {\n",
       "        text-align: right;\n",
       "    }\n",
       "</style>\n",
       "<table border=\"1\" class=\"dataframe\">\n",
       "  <thead>\n",
       "    <tr style=\"text-align: right;\">\n",
       "      <th></th>\n",
       "      <th>machine learning</th>\n",
       "      <th>isPartial</th>\n",
       "    </tr>\n",
       "    <tr>\n",
       "      <th>date</th>\n",
       "      <th></th>\n",
       "      <th></th>\n",
       "    </tr>\n",
       "  </thead>\n",
       "  <tbody>\n",
       "    <tr>\n",
       "      <th>2021-09-29 00:00:00</th>\n",
       "      <td>0</td>\n",
       "      <td>False</td>\n",
       "    </tr>\n",
       "    <tr>\n",
       "      <th>2021-09-29 01:00:00</th>\n",
       "      <td>0</td>\n",
       "      <td>False</td>\n",
       "    </tr>\n",
       "    <tr>\n",
       "      <th>2021-09-29 02:00:00</th>\n",
       "      <td>0</td>\n",
       "      <td>False</td>\n",
       "    </tr>\n",
       "    <tr>\n",
       "      <th>2021-09-29 03:00:00</th>\n",
       "      <td>0</td>\n",
       "      <td>False</td>\n",
       "    </tr>\n",
       "    <tr>\n",
       "      <th>2021-09-29 04:00:00</th>\n",
       "      <td>0</td>\n",
       "      <td>False</td>\n",
       "    </tr>\n",
       "    <tr>\n",
       "      <th>2021-09-29 05:00:00</th>\n",
       "      <td>0</td>\n",
       "      <td>False</td>\n",
       "    </tr>\n",
       "    <tr>\n",
       "      <th>2021-09-29 06:00:00</th>\n",
       "      <td>0</td>\n",
       "      <td>False</td>\n",
       "    </tr>\n",
       "    <tr>\n",
       "      <th>2021-09-29 07:00:00</th>\n",
       "      <td>0</td>\n",
       "      <td>False</td>\n",
       "    </tr>\n",
       "    <tr>\n",
       "      <th>2021-09-29 08:00:00</th>\n",
       "      <td>0</td>\n",
       "      <td>False</td>\n",
       "    </tr>\n",
       "    <tr>\n",
       "      <th>2021-09-29 09:00:00</th>\n",
       "      <td>0</td>\n",
       "      <td>False</td>\n",
       "    </tr>\n",
       "    <tr>\n",
       "      <th>2021-09-29 10:00:00</th>\n",
       "      <td>0</td>\n",
       "      <td>False</td>\n",
       "    </tr>\n",
       "    <tr>\n",
       "      <th>2021-09-29 11:00:00</th>\n",
       "      <td>0</td>\n",
       "      <td>False</td>\n",
       "    </tr>\n",
       "    <tr>\n",
       "      <th>2021-09-29 12:00:00</th>\n",
       "      <td>0</td>\n",
       "      <td>False</td>\n",
       "    </tr>\n",
       "    <tr>\n",
       "      <th>2021-09-29 13:00:00</th>\n",
       "      <td>0</td>\n",
       "      <td>False</td>\n",
       "    </tr>\n",
       "    <tr>\n",
       "      <th>2021-09-29 14:00:00</th>\n",
       "      <td>0</td>\n",
       "      <td>False</td>\n",
       "    </tr>\n",
       "    <tr>\n",
       "      <th>2021-09-29 15:00:00</th>\n",
       "      <td>0</td>\n",
       "      <td>False</td>\n",
       "    </tr>\n",
       "    <tr>\n",
       "      <th>2021-09-29 16:00:00</th>\n",
       "      <td>0</td>\n",
       "      <td>False</td>\n",
       "    </tr>\n",
       "    <tr>\n",
       "      <th>2021-09-29 17:00:00</th>\n",
       "      <td>0</td>\n",
       "      <td>False</td>\n",
       "    </tr>\n",
       "    <tr>\n",
       "      <th>2021-09-29 18:00:00</th>\n",
       "      <td>0</td>\n",
       "      <td>False</td>\n",
       "    </tr>\n",
       "    <tr>\n",
       "      <th>2021-09-29 19:00:00</th>\n",
       "      <td>0</td>\n",
       "      <td>False</td>\n",
       "    </tr>\n",
       "    <tr>\n",
       "      <th>2021-09-29 20:00:00</th>\n",
       "      <td>0</td>\n",
       "      <td>False</td>\n",
       "    </tr>\n",
       "    <tr>\n",
       "      <th>2021-09-29 21:00:00</th>\n",
       "      <td>0</td>\n",
       "      <td>False</td>\n",
       "    </tr>\n",
       "    <tr>\n",
       "      <th>2021-09-29 22:00:00</th>\n",
       "      <td>0</td>\n",
       "      <td>False</td>\n",
       "    </tr>\n",
       "    <tr>\n",
       "      <th>2021-09-29 23:00:00</th>\n",
       "      <td>0</td>\n",
       "      <td>False</td>\n",
       "    </tr>\n",
       "    <tr>\n",
       "      <th>2021-09-30 00:00:00</th>\n",
       "      <td>0</td>\n",
       "      <td>False</td>\n",
       "    </tr>\n",
       "  </tbody>\n",
       "</table>\n",
       "</div>"
      ],
      "text/plain": [
       "                     machine learning  isPartial\n",
       "date                                            \n",
       "2021-09-29 00:00:00                 0      False\n",
       "2021-09-29 01:00:00                 0      False\n",
       "2021-09-29 02:00:00                 0      False\n",
       "2021-09-29 03:00:00                 0      False\n",
       "2021-09-29 04:00:00                 0      False\n",
       "2021-09-29 05:00:00                 0      False\n",
       "2021-09-29 06:00:00                 0      False\n",
       "2021-09-29 07:00:00                 0      False\n",
       "2021-09-29 08:00:00                 0      False\n",
       "2021-09-29 09:00:00                 0      False\n",
       "2021-09-29 10:00:00                 0      False\n",
       "2021-09-29 11:00:00                 0      False\n",
       "2021-09-29 12:00:00                 0      False\n",
       "2021-09-29 13:00:00                 0      False\n",
       "2021-09-29 14:00:00                 0      False\n",
       "2021-09-29 15:00:00                 0      False\n",
       "2021-09-29 16:00:00                 0      False\n",
       "2021-09-29 17:00:00                 0      False\n",
       "2021-09-29 18:00:00                 0      False\n",
       "2021-09-29 19:00:00                 0      False\n",
       "2021-09-29 20:00:00                 0      False\n",
       "2021-09-29 21:00:00                 0      False\n",
       "2021-09-29 22:00:00                 0      False\n",
       "2021-09-29 23:00:00                 0      False\n",
       "2021-09-30 00:00:00                 0      False"
      ]
     },
     "execution_count": 9,
     "metadata": {},
     "output_type": "execute_result"
    }
   ],
   "source": [
    "pytrends.get_historical_interest(kw_list, year_start=2021, month_start=9, day_start=1, hour_start=0, year_end=2021, month_end=9, day_end=30, hour_end=0, cat=0, sleep=0)\n"
   ]
  },
  {
   "cell_type": "code",
   "execution_count": null,
   "metadata": {},
   "outputs": [],
   "source": []
  },
  {
   "cell_type": "code",
   "execution_count": null,
   "metadata": {},
   "outputs": [],
   "source": []
  },
  {
   "cell_type": "code",
   "execution_count": null,
   "metadata": {},
   "outputs": [],
   "source": []
  },
  {
   "cell_type": "code",
   "execution_count": null,
   "metadata": {},
   "outputs": [],
   "source": []
  },
  {
   "cell_type": "code",
   "execution_count": null,
   "metadata": {},
   "outputs": [],
   "source": []
  }
 ],
 "metadata": {
  "hide_input": false,
  "kernelspec": {
   "display_name": "Python 3",
   "language": "python",
   "name": "python3"
  },
  "language_info": {
   "codemirror_mode": {
    "name": "ipython",
    "version": 3
   },
   "file_extension": ".py",
   "mimetype": "text/x-python",
   "name": "python",
   "nbconvert_exporter": "python",
   "pygments_lexer": "ipython3",
   "version": "3.8.5"
  },
  "toc": {
   "base_numbering": 1,
   "nav_menu": {},
   "number_sections": true,
   "sideBar": true,
   "skip_h1_title": false,
   "title_cell": "Table of Contents",
   "title_sidebar": "Contents",
   "toc_cell": true,
   "toc_position": {},
   "toc_section_display": true,
   "toc_window_display": true
  }
 },
 "nbformat": 4,
 "nbformat_minor": 4
}
