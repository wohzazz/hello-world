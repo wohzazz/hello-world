{
 "cells": [
  {
   "cell_type": "markdown",
   "metadata": {
    "toc": true
   },
   "source": [
    "<h1>Table of Contents<span class=\"tocSkip\"></span></h1>\n",
    "<div class=\"toc\"><ul class=\"toc-item\"><li><span><a href=\"#Resources\" data-toc-modified-id=\"Resources-1\"><span class=\"toc-item-num\">1&nbsp;&nbsp;</span>Resources</a></span></li><li><span><a href=\"#Python-setup\" data-toc-modified-id=\"Python-setup-2\"><span class=\"toc-item-num\">2&nbsp;&nbsp;</span>Python setup</a></span></li><li><span><a href=\"#Example:-Market-Basket-Analysis-in-Movies\" data-toc-modified-id=\"Example:-Market-Basket-Analysis-in-Movies-3\"><span class=\"toc-item-num\">3&nbsp;&nbsp;</span>Example: Market Basket Analysis in Movies</a></span><ul class=\"toc-item\"><li><span><a href=\"#import-data\" data-toc-modified-id=\"import-data-3.1\"><span class=\"toc-item-num\">3.1&nbsp;&nbsp;</span>import data</a></span></li><li><span><a href=\"#one-hot-encode\" data-toc-modified-id=\"one-hot-encode-3.2\"><span class=\"toc-item-num\">3.2&nbsp;&nbsp;</span>one hot encode</a></span></li><li><span><a href=\"#Generate-the-Association-Rules-of-2-Items\" data-toc-modified-id=\"Generate-the-Association-Rules-of-2-Items-3.3\"><span class=\"toc-item-num\">3.3&nbsp;&nbsp;</span>Generate the Association Rules of 2 Items</a></span></li><li><span><a href=\"#Extract-recommendations:-using-101-Dalmatians\" data-toc-modified-id=\"Extract-recommendations:-using-101-Dalmatians-3.4\"><span class=\"toc-item-num\">3.4&nbsp;&nbsp;</span>Extract recommendations: using 101 Dalmatians</a></span></li></ul></li><li><span><a href=\"#Example-Market-Basket-Analysis-in-Grocery-Basket\" data-toc-modified-id=\"Example-Market-Basket-Analysis-in-Grocery-Basket-4\"><span class=\"toc-item-num\">4&nbsp;&nbsp;</span>Example Market Basket Analysis in Grocery Basket</a></span><ul class=\"toc-item\"><li><span><a href=\"#association-rules-of-3-items\" data-toc-modified-id=\"association-rules-of-3-items-4.1\"><span class=\"toc-item-num\">4.1&nbsp;&nbsp;</span>association rules of 3 items</a></span></li><li><span><a href=\"#Visualize-Market-Basket-Analysis\" data-toc-modified-id=\"Visualize-Market-Basket-Analysis-4.2\"><span class=\"toc-item-num\">4.2&nbsp;&nbsp;</span>Visualize Market Basket Analysis</a></span></li></ul></li></ul></div>"
   ]
  },
  {
   "cell_type": "markdown",
   "metadata": {},
   "source": [
    "# Resources\n",
    "\n",
    "A Tutorial about market basket analysis\n",
    "\n",
    "https://medium.com/swlh/a-tutorial-about-market-basket-analysis-in-python-predictive-hacks-497dc6e06b27\n",
    "\n",
    "Another article \n",
    "\n",
    "https://pbpython.com/market-basket-analysis.html\n",
    "    "
   ]
  },
  {
   "cell_type": "markdown",
   "metadata": {},
   "source": [
    "# Python setup"
   ]
  },
  {
   "cell_type": "code",
   "execution_count": 29,
   "metadata": {
    "ExecuteTime": {
     "end_time": "2021-09-17T04:44:25.443612Z",
     "start_time": "2021-09-17T04:44:21.006520Z"
    }
   },
   "outputs": [],
   "source": [
    "# !jt -t onedork -fs 100 -nfs 115 -cellw 88% -T -N"
   ]
  },
  {
   "cell_type": "code",
   "execution_count": 25,
   "metadata": {
    "ExecuteTime": {
     "end_time": "2021-09-17T04:41:42.758913Z",
     "start_time": "2021-09-17T04:41:42.751907Z"
    }
   },
   "outputs": [
    {
     "data": {
      "text/html": [
       "<style>.container { width:70% !important; }</style>"
      ],
      "text/plain": [
       "<IPython.core.display.HTML object>"
      ]
     },
     "metadata": {},
     "output_type": "display_data"
    }
   ],
   "source": [
    "from IPython.core.display import display, HTML\n",
    "display(HTML(\"<style>.container { width:70% !important; }</style>\")) # increases width of ipython cells"
   ]
  },
  {
   "cell_type": "code",
   "execution_count": null,
   "metadata": {},
   "outputs": [],
   "source": []
  },
  {
   "cell_type": "markdown",
   "metadata": {},
   "source": [
    "# Example: Market Basket Analysis in Movies\n",
    "https://medium.com/swlh/a-tutorial-about-market-basket-analysis-in-python-predictive-hacks-497dc6e06b27"
   ]
  },
  {
   "cell_type": "markdown",
   "metadata": {},
   "source": [
    "## import data"
   ]
  },
  {
   "cell_type": "code",
   "execution_count": 1,
   "metadata": {
    "ExecuteTime": {
     "end_time": "2021-09-17T04:18:37.380693Z",
     "start_time": "2021-09-17T04:18:36.779750Z"
    }
   },
   "outputs": [
    {
     "data": {
      "text/html": [
       "<div>\n",
       "<style scoped>\n",
       "    .dataframe tbody tr th:only-of-type {\n",
       "        vertical-align: middle;\n",
       "    }\n",
       "\n",
       "    .dataframe tbody tr th {\n",
       "        vertical-align: top;\n",
       "    }\n",
       "\n",
       "    .dataframe thead th {\n",
       "        text-align: right;\n",
       "    }\n",
       "</style>\n",
       "<table border=\"1\" class=\"dataframe\">\n",
       "  <thead>\n",
       "    <tr style=\"text-align: right;\">\n",
       "      <th></th>\n",
       "      <th>user_id</th>\n",
       "      <th>movie title</th>\n",
       "    </tr>\n",
       "  </thead>\n",
       "  <tbody>\n",
       "    <tr>\n",
       "      <th>0</th>\n",
       "      <td>196</td>\n",
       "      <td>Kolya (1996)</td>\n",
       "    </tr>\n",
       "    <tr>\n",
       "      <th>1</th>\n",
       "      <td>63</td>\n",
       "      <td>Kolya (1996)</td>\n",
       "    </tr>\n",
       "    <tr>\n",
       "      <th>2</th>\n",
       "      <td>226</td>\n",
       "      <td>Kolya (1996)</td>\n",
       "    </tr>\n",
       "    <tr>\n",
       "      <th>3</th>\n",
       "      <td>154</td>\n",
       "      <td>Kolya (1996)</td>\n",
       "    </tr>\n",
       "    <tr>\n",
       "      <th>4</th>\n",
       "      <td>306</td>\n",
       "      <td>Kolya (1996)</td>\n",
       "    </tr>\n",
       "  </tbody>\n",
       "</table>\n",
       "</div>"
      ],
      "text/plain": [
       "   user_id   movie title\n",
       "0      196  Kolya (1996)\n",
       "1       63  Kolya (1996)\n",
       "2      226  Kolya (1996)\n",
       "3      154  Kolya (1996)\n",
       "4      306  Kolya (1996)"
      ]
     },
     "execution_count": 1,
     "metadata": {},
     "output_type": "execute_result"
    }
   ],
   "source": [
    "import pandas as pd\n",
    "import numpy as np\n",
    "columns = ['user_id', 'item_id', 'rating', 'timestamp']\n",
    "df = pd.read_csv('ml-100k/u.data', sep='\\t', names=columns)\n",
    "columns = ['item_id', 'movie title', 'release date', 'video release date', 'IMDb URL', 'unknown', 'Action', 'Adventure',\n",
    "          'Animation', 'Childrens', 'Comedy', 'Crime', 'Documentary', 'Drama', 'Fantasy', 'Film-Noir', 'Horror',\n",
    "          'Musical', 'Mystery', 'Romance', 'Sci-Fi', 'Thriller', 'War', 'Western']\n",
    "movies = pd.read_csv('ml-100k/u.item', sep='|', names=columns, encoding='latin-1')\n",
    "movie_names = movies[['item_id', 'movie title']]\n",
    "combined_movies_data = pd.merge(df, movie_names, on='item_id')\n",
    "combined_movies_data = combined_movies_data[['user_id','movie title']]\n",
    "combined_movies_data.head()"
   ]
  },
  {
   "cell_type": "code",
   "execution_count": 4,
   "metadata": {
    "ExecuteTime": {
     "end_time": "2021-09-17T04:20:40.953417Z",
     "start_time": "2021-09-17T04:20:40.922389Z"
    }
   },
   "outputs": [
    {
     "name": "stdout",
     "output_type": "stream",
     "text": [
      "<class 'pandas.core.frame.DataFrame'>\n",
      "Int64Index: 100000 entries, 0 to 99999\n",
      "Data columns (total 2 columns):\n",
      " #   Column       Non-Null Count   Dtype \n",
      "---  ------       --------------   ----- \n",
      " 0   user_id      100000 non-null  int64 \n",
      " 1   movie title  100000 non-null  object\n",
      "dtypes: int64(1), object(1)\n",
      "memory usage: 2.3+ MB\n",
      "None\n"
     ]
    }
   ],
   "source": [
    "print(combined_movies_data.info())"
   ]
  },
  {
   "cell_type": "markdown",
   "metadata": {},
   "source": [
    "## one hot encode\n",
    "\n",
    "Then we want to create a “Onehot” Data Frame, with True values when one movie has been watched by a User_ID and False otherwise."
   ]
  },
  {
   "cell_type": "code",
   "execution_count": null,
   "metadata": {},
   "outputs": [],
   "source": [
    "onehot = combined_movies_data.pivot_table(index='user_id', columns='movie title', aggfunc=len, fill_value=0)\n",
    "onehot = onehot>0 # pivot table of binaries"
   ]
  },
  {
   "cell_type": "code",
   "execution_count": 5,
   "metadata": {
    "ExecuteTime": {
     "end_time": "2021-09-17T04:21:00.590779Z",
     "start_time": "2021-09-17T04:21:00.581771Z"
    }
   },
   "outputs": [
    {
     "name": "stdout",
     "output_type": "stream",
     "text": [
      "movie title  'Til There Was You (1997)  1-900 (1994)  101 Dalmatians (1996)  \\\n",
      "user_id                                                                       \n",
      "1                                False         False                   True   \n",
      "2                                False         False                  False   \n",
      "3                                False         False                  False   \n",
      "4                                False         False                  False   \n",
      "5                                False         False                   True   \n",
      "...                                ...           ...                    ...   \n",
      "939                              False         False                  False   \n",
      "940                              False         False                  False   \n",
      "941                              False         False                  False   \n",
      "942                              False         False                  False   \n",
      "943                              False         False                  False   \n",
      "\n",
      "movie title  12 Angry Men (1957)  187 (1997)  2 Days in the Valley (1996)  \\\n",
      "user_id                                                                     \n",
      "1                           True       False                        False   \n",
      "2                          False       False                        False   \n",
      "3                          False        True                        False   \n",
      "4                          False       False                        False   \n",
      "5                          False       False                        False   \n",
      "...                          ...         ...                          ...   \n",
      "939                        False       False                        False   \n",
      "940                        False       False                        False   \n",
      "941                        False       False                        False   \n",
      "942                        False       False                        False   \n",
      "943                        False       False                         True   \n",
      "\n",
      "movie title  20,000 Leagues Under the Sea (1954)  \\\n",
      "user_id                                            \n",
      "1                                           True   \n",
      "2                                          False   \n",
      "3                                          False   \n",
      "4                                          False   \n",
      "5                                          False   \n",
      "...                                          ...   \n",
      "939                                        False   \n",
      "940                                        False   \n",
      "941                                        False   \n",
      "942                                        False   \n",
      "943                                        False   \n",
      "\n",
      "movie title  2001: A Space Odyssey (1968)  \\\n",
      "user_id                                     \n",
      "1                                    True   \n",
      "2                                   False   \n",
      "3                                   False   \n",
      "4                                   False   \n",
      "5                                    True   \n",
      "...                                   ...   \n",
      "939                                 False   \n",
      "940                                 False   \n",
      "941                                 False   \n",
      "942                                  True   \n",
      "943                                 False   \n",
      "\n",
      "movie title  3 Ninjas: High Noon At Mega Mountain (1998)  \\\n",
      "user_id                                                    \n",
      "1                                                  False   \n",
      "2                                                   True   \n",
      "3                                                  False   \n",
      "4                                                  False   \n",
      "5                                                  False   \n",
      "...                                                  ...   \n",
      "939                                                False   \n",
      "940                                                False   \n",
      "941                                                False   \n",
      "942                                                False   \n",
      "943                                                False   \n",
      "\n",
      "movie title  39 Steps, The (1935)  ...  Yankee Zulu (1994)  \\\n",
      "user_id                            ...                       \n",
      "1                           False  ...               False   \n",
      "2                           False  ...               False   \n",
      "3                           False  ...               False   \n",
      "4                           False  ...               False   \n",
      "5                           False  ...               False   \n",
      "...                           ...  ...                 ...   \n",
      "939                         False  ...               False   \n",
      "940                         False  ...               False   \n",
      "941                         False  ...               False   \n",
      "942                          True  ...               False   \n",
      "943                         False  ...               False   \n",
      "\n",
      "movie title  Year of the Horse (1997)  You So Crazy (1994)  \\\n",
      "user_id                                                      \n",
      "1                               False                False   \n",
      "2                               False                False   \n",
      "3                               False                False   \n",
      "4                               False                False   \n",
      "5                               False                False   \n",
      "...                               ...                  ...   \n",
      "939                             False                False   \n",
      "940                             False                False   \n",
      "941                             False                False   \n",
      "942                             False                False   \n",
      "943                             False                False   \n",
      "\n",
      "movie title  Young Frankenstein (1974)  Young Guns (1988)  \\\n",
      "user_id                                                     \n",
      "1                                 True               True   \n",
      "2                                False              False   \n",
      "3                                False              False   \n",
      "4                                False              False   \n",
      "5                                 True              False   \n",
      "...                                ...                ...   \n",
      "939                              False              False   \n",
      "940                              False              False   \n",
      "941                              False              False   \n",
      "942                              False              False   \n",
      "943                              False               True   \n",
      "\n",
      "movie title  Young Guns II (1990)  Young Poisoner's Handbook, The (1995)  \\\n",
      "user_id                                                                    \n",
      "1                           False                                  False   \n",
      "2                           False                                  False   \n",
      "3                           False                                  False   \n",
      "4                           False                                  False   \n",
      "5                           False                                  False   \n",
      "...                           ...                                    ...   \n",
      "939                         False                                  False   \n",
      "940                         False                                  False   \n",
      "941                         False                                  False   \n",
      "942                         False                                  False   \n",
      "943                          True                                  False   \n",
      "\n",
      "movie title  Zeus and Roxanne (1997)  unknown  \\\n",
      "user_id                                         \n",
      "1                              False     True   \n",
      "2                              False    False   \n",
      "3                              False    False   \n",
      "4                              False    False   \n",
      "5                              False     True   \n",
      "...                              ...      ...   \n",
      "939                            False    False   \n",
      "940                            False    False   \n",
      "941                            False    False   \n",
      "942                            False    False   \n",
      "943                            False    False   \n",
      "\n",
      "movie title  Á köldum klaka (Cold Fever) (1994)  \n",
      "user_id                                          \n",
      "1                                         False  \n",
      "2                                         False  \n",
      "3                                         False  \n",
      "4                                         False  \n",
      "5                                         False  \n",
      "...                                         ...  \n",
      "939                                       False  \n",
      "940                                       False  \n",
      "941                                       False  \n",
      "942                                       False  \n",
      "943                                       False  \n",
      "\n",
      "[943 rows x 1664 columns]\n"
     ]
    }
   ],
   "source": [
    "print(onehot)"
   ]
  },
  {
   "cell_type": "markdown",
   "metadata": {
    "ExecuteTime": {
     "end_time": "2021-09-17T04:18:51.435560Z",
     "start_time": "2021-09-17T04:18:50.656436Z"
    }
   },
   "source": [
    "## Generate the Association Rules of 2 Items\n",
    "We will work with the mlxtend library and we will generate the Association Rules of 2 Items using the Apriori algorithm."
   ]
  },
  {
   "cell_type": "code",
   "execution_count": 6,
   "metadata": {
    "ExecuteTime": {
     "end_time": "2021-09-17T04:23:12.335395Z",
     "start_time": "2021-09-17T04:23:07.517200Z"
    }
   },
   "outputs": [
    {
     "name": "stdout",
     "output_type": "stream",
     "text": [
      "Collecting mlxtend\n",
      "  Downloading mlxtend-0.19.0-py2.py3-none-any.whl (1.3 MB)\n",
      "Requirement already satisfied: matplotlib>=3.0.0 in c:\\users\\public\\anaconda3\\lib\\site-packages (from mlxtend) (3.3.2)\n",
      "Requirement already satisfied: setuptools in c:\\users\\public\\anaconda3\\lib\\site-packages (from mlxtend) (50.3.1.post20201107)\n",
      "Requirement already satisfied: scikit-learn>=0.20.3 in c:\\users\\public\\anaconda3\\lib\\site-packages (from mlxtend) (0.23.2)\n",
      "Requirement already satisfied: numpy>=1.16.2 in c:\\users\\public\\anaconda3\\lib\\site-packages (from mlxtend) (1.19.2)\n",
      "Requirement already satisfied: scipy>=1.2.1 in c:\\users\\public\\anaconda3\\lib\\site-packages (from mlxtend) (1.5.2)\n",
      "Requirement already satisfied: pandas>=0.24.2 in c:\\users\\public\\anaconda3\\lib\\site-packages (from mlxtend) (1.1.3)\n",
      "Requirement already satisfied: joblib>=0.13.2 in c:\\users\\public\\anaconda3\\lib\\site-packages (from mlxtend) (0.17.0)\n",
      "Requirement already satisfied: certifi>=2020.06.20 in c:\\users\\public\\anaconda3\\lib\\site-packages (from matplotlib>=3.0.0->mlxtend) (2021.5.30)\n",
      "Requirement already satisfied: pyparsing!=2.0.4,!=2.1.2,!=2.1.6,>=2.0.3 in c:\\users\\public\\anaconda3\\lib\\site-packages (from matplotlib>=3.0.0->mlxtend) (2.4.7)\n",
      "Requirement already satisfied: cycler>=0.10 in c:\\users\\public\\anaconda3\\lib\\site-packages (from matplotlib>=3.0.0->mlxtend) (0.10.0)\n",
      "Requirement already satisfied: python-dateutil>=2.1 in c:\\users\\public\\anaconda3\\lib\\site-packages (from matplotlib>=3.0.0->mlxtend) (2.8.1)\n",
      "Requirement already satisfied: pillow>=6.2.0 in c:\\users\\public\\anaconda3\\lib\\site-packages (from matplotlib>=3.0.0->mlxtend) (8.0.1)\n",
      "Requirement already satisfied: kiwisolver>=1.0.1 in c:\\users\\public\\anaconda3\\lib\\site-packages (from matplotlib>=3.0.0->mlxtend) (1.3.0)\n",
      "Requirement already satisfied: threadpoolctl>=2.0.0 in c:\\users\\public\\anaconda3\\lib\\site-packages (from scikit-learn>=0.20.3->mlxtend) (2.1.0)\n",
      "Requirement already satisfied: pytz>=2017.2 in c:\\users\\public\\anaconda3\\lib\\site-packages (from pandas>=0.24.2->mlxtend) (2020.1)\n",
      "Requirement already satisfied: six in c:\\users\\public\\anaconda3\\lib\\site-packages (from cycler>=0.10->matplotlib>=3.0.0->mlxtend) (1.15.0)\n",
      "Installing collected packages: mlxtend\n",
      "Successfully installed mlxtend-0.19.0\n"
     ]
    }
   ],
   "source": [
    "# !pip install mlxtend"
   ]
  },
  {
   "cell_type": "code",
   "execution_count": 7,
   "metadata": {
    "ExecuteTime": {
     "end_time": "2021-09-17T04:23:25.893540Z",
     "start_time": "2021-09-17T04:23:13.867896Z"
    }
   },
   "outputs": [
    {
     "data": {
      "text/html": [
       "<div>\n",
       "<style scoped>\n",
       "    .dataframe tbody tr th:only-of-type {\n",
       "        vertical-align: middle;\n",
       "    }\n",
       "\n",
       "    .dataframe tbody tr th {\n",
       "        vertical-align: top;\n",
       "    }\n",
       "\n",
       "    .dataframe thead th {\n",
       "        text-align: right;\n",
       "    }\n",
       "</style>\n",
       "<table border=\"1\" class=\"dataframe\">\n",
       "  <thead>\n",
       "    <tr style=\"text-align: right;\">\n",
       "      <th></th>\n",
       "      <th>antecedents</th>\n",
       "      <th>consequents</th>\n",
       "      <th>antecedent support</th>\n",
       "      <th>consequent support</th>\n",
       "      <th>support</th>\n",
       "      <th>confidence</th>\n",
       "      <th>lift</th>\n",
       "      <th>leverage</th>\n",
       "      <th>conviction</th>\n",
       "    </tr>\n",
       "  </thead>\n",
       "  <tbody>\n",
       "    <tr>\n",
       "      <th>0</th>\n",
       "      <td>(Brother's Kiss, A (1997))</td>\n",
       "      <td>('Til There Was You (1997))</td>\n",
       "      <td>0.001060</td>\n",
       "      <td>0.009544</td>\n",
       "      <td>0.001060</td>\n",
       "      <td>1.000000</td>\n",
       "      <td>104.777778</td>\n",
       "      <td>0.001050</td>\n",
       "      <td>inf</td>\n",
       "    </tr>\n",
       "    <tr>\n",
       "      <th>1</th>\n",
       "      <td>(Everest (1998))</td>\n",
       "      <td>('Til There Was You (1997))</td>\n",
       "      <td>0.002121</td>\n",
       "      <td>0.009544</td>\n",
       "      <td>0.002121</td>\n",
       "      <td>1.000000</td>\n",
       "      <td>104.777778</td>\n",
       "      <td>0.002101</td>\n",
       "      <td>inf</td>\n",
       "    </tr>\n",
       "    <tr>\n",
       "      <th>2</th>\n",
       "      <td>(MURDER and murder (1996))</td>\n",
       "      <td>('Til There Was You (1997))</td>\n",
       "      <td>0.001060</td>\n",
       "      <td>0.009544</td>\n",
       "      <td>0.001060</td>\n",
       "      <td>1.000000</td>\n",
       "      <td>104.777778</td>\n",
       "      <td>0.001050</td>\n",
       "      <td>inf</td>\n",
       "    </tr>\n",
       "    <tr>\n",
       "      <th>3</th>\n",
       "      <td>('Til There Was You (1997))</td>\n",
       "      <td>(My Best Friend's Wedding (1997))</td>\n",
       "      <td>0.009544</td>\n",
       "      <td>0.182397</td>\n",
       "      <td>0.008484</td>\n",
       "      <td>0.888889</td>\n",
       "      <td>4.873385</td>\n",
       "      <td>0.006743</td>\n",
       "      <td>7.358431</td>\n",
       "    </tr>\n",
       "    <tr>\n",
       "      <th>4</th>\n",
       "      <td>(Next Step, The (1995))</td>\n",
       "      <td>('Til There Was You (1997))</td>\n",
       "      <td>0.001060</td>\n",
       "      <td>0.009544</td>\n",
       "      <td>0.001060</td>\n",
       "      <td>1.000000</td>\n",
       "      <td>104.777778</td>\n",
       "      <td>0.001050</td>\n",
       "      <td>inf</td>\n",
       "    </tr>\n",
       "  </tbody>\n",
       "</table>\n",
       "</div>"
      ],
      "text/plain": [
       "                   antecedents                        consequents  \\\n",
       "0   (Brother's Kiss, A (1997))        ('Til There Was You (1997))   \n",
       "1             (Everest (1998))        ('Til There Was You (1997))   \n",
       "2   (MURDER and murder (1996))        ('Til There Was You (1997))   \n",
       "3  ('Til There Was You (1997))  (My Best Friend's Wedding (1997))   \n",
       "4      (Next Step, The (1995))        ('Til There Was You (1997))   \n",
       "\n",
       "   antecedent support  consequent support   support  confidence        lift  \\\n",
       "0            0.001060            0.009544  0.001060    1.000000  104.777778   \n",
       "1            0.002121            0.009544  0.002121    1.000000  104.777778   \n",
       "2            0.001060            0.009544  0.001060    1.000000  104.777778   \n",
       "3            0.009544            0.182397  0.008484    0.888889    4.873385   \n",
       "4            0.001060            0.009544  0.001060    1.000000  104.777778   \n",
       "\n",
       "   leverage  conviction  \n",
       "0  0.001050         inf  \n",
       "1  0.002101         inf  \n",
       "2  0.001050         inf  \n",
       "3  0.006743    7.358431  \n",
       "4  0.001050         inf  "
      ]
     },
     "execution_count": 7,
     "metadata": {},
     "output_type": "execute_result"
    }
   ],
   "source": [
    "from mlxtend.frequent_patterns import association_rules, apriori\n",
    "\n",
    "# compute frequent items using the Apriori algorithm\n",
    "frequent_itemsets = apriori(onehot, min_support = 0.001, max_len = 2, use_colnames=True)\n",
    "\n",
    "# compute all association rules for frequent_itemsets\n",
    "rules = association_rules(frequent_itemsets)\n",
    "rules.head()"
   ]
  },
  {
   "cell_type": "markdown",
   "metadata": {},
   "source": [
    "## Extract recommendations: using 101 Dalmatians"
   ]
  },
  {
   "cell_type": "code",
   "execution_count": 8,
   "metadata": {
    "ExecuteTime": {
     "end_time": "2021-09-17T04:24:01.386393Z",
     "start_time": "2021-09-17T04:24:01.236503Z"
    }
   },
   "outputs": [
    {
     "data": {
      "text/html": [
       "<div>\n",
       "<style scoped>\n",
       "    .dataframe tbody tr th:only-of-type {\n",
       "        vertical-align: middle;\n",
       "    }\n",
       "\n",
       "    .dataframe tbody tr th {\n",
       "        vertical-align: top;\n",
       "    }\n",
       "\n",
       "    .dataframe thead th {\n",
       "        text-align: right;\n",
       "    }\n",
       "</style>\n",
       "<table border=\"1\" class=\"dataframe\">\n",
       "  <thead>\n",
       "    <tr style=\"text-align: right;\">\n",
       "      <th></th>\n",
       "      <th>antecedents</th>\n",
       "      <th>consequents</th>\n",
       "      <th>antecedent support</th>\n",
       "      <th>consequent support</th>\n",
       "      <th>support</th>\n",
       "      <th>confidence</th>\n",
       "      <th>lift</th>\n",
       "      <th>leverage</th>\n",
       "      <th>conviction</th>\n",
       "    </tr>\n",
       "  </thead>\n",
       "  <tbody>\n",
       "    <tr>\n",
       "      <th>75</th>\n",
       "      <td>(101 Dalmatians (1996))</td>\n",
       "      <td>(Independence Day (ID4) (1996))</td>\n",
       "      <td>0.115589</td>\n",
       "      <td>0.454931</td>\n",
       "      <td>0.098621</td>\n",
       "      <td>0.853211</td>\n",
       "      <td>1.875473</td>\n",
       "      <td>0.046037</td>\n",
       "      <td>3.713282</td>\n",
       "    </tr>\n",
       "    <tr>\n",
       "      <th>96</th>\n",
       "      <td>(101 Dalmatians (1996))</td>\n",
       "      <td>(Toy Story (1995))</td>\n",
       "      <td>0.115589</td>\n",
       "      <td>0.479321</td>\n",
       "      <td>0.099682</td>\n",
       "      <td>0.862385</td>\n",
       "      <td>1.799180</td>\n",
       "      <td>0.044278</td>\n",
       "      <td>3.783598</td>\n",
       "    </tr>\n",
       "    <tr>\n",
       "      <th>88</th>\n",
       "      <td>(101 Dalmatians (1996))</td>\n",
       "      <td>(Return of the Jedi (1983))</td>\n",
       "      <td>0.115589</td>\n",
       "      <td>0.537646</td>\n",
       "      <td>0.093319</td>\n",
       "      <td>0.807339</td>\n",
       "      <td>1.501620</td>\n",
       "      <td>0.031173</td>\n",
       "      <td>2.399838</td>\n",
       "    </tr>\n",
       "    <tr>\n",
       "      <th>91</th>\n",
       "      <td>(101 Dalmatians (1996))</td>\n",
       "      <td>(Star Wars (1977))</td>\n",
       "      <td>0.115589</td>\n",
       "      <td>0.618240</td>\n",
       "      <td>0.100742</td>\n",
       "      <td>0.871560</td>\n",
       "      <td>1.409744</td>\n",
       "      <td>0.029281</td>\n",
       "      <td>2.972277</td>\n",
       "    </tr>\n",
       "  </tbody>\n",
       "</table>\n",
       "</div>"
      ],
      "text/plain": [
       "                antecedents                      consequents  \\\n",
       "75  (101 Dalmatians (1996))  (Independence Day (ID4) (1996))   \n",
       "96  (101 Dalmatians (1996))               (Toy Story (1995))   \n",
       "88  (101 Dalmatians (1996))      (Return of the Jedi (1983))   \n",
       "91  (101 Dalmatians (1996))               (Star Wars (1977))   \n",
       "\n",
       "    antecedent support  consequent support   support  confidence      lift  \\\n",
       "75            0.115589            0.454931  0.098621    0.853211  1.875473   \n",
       "96            0.115589            0.479321  0.099682    0.862385  1.799180   \n",
       "88            0.115589            0.537646  0.093319    0.807339  1.501620   \n",
       "91            0.115589            0.618240  0.100742    0.871560  1.409744   \n",
       "\n",
       "    leverage  conviction  \n",
       "75  0.046037    3.713282  \n",
       "96  0.044278    3.783598  \n",
       "88  0.031173    2.399838  \n",
       "91  0.029281    2.972277  "
      ]
     },
     "execution_count": 8,
     "metadata": {},
     "output_type": "execute_result"
    }
   ],
   "source": [
    "rules[rules.antecedents.apply(str).str.contains(\"101 Dalmatians\")].sort_values('lift', ascending=False)"
   ]
  },
  {
   "cell_type": "code",
   "execution_count": 10,
   "metadata": {
    "ExecuteTime": {
     "end_time": "2021-09-17T04:25:07.098652Z",
     "start_time": "2021-09-17T04:25:07.064622Z"
    }
   },
   "outputs": [
    {
     "data": {
      "text/html": [
       "<div>\n",
       "<style scoped>\n",
       "    .dataframe tbody tr th:only-of-type {\n",
       "        vertical-align: middle;\n",
       "    }\n",
       "\n",
       "    .dataframe tbody tr th {\n",
       "        vertical-align: top;\n",
       "    }\n",
       "\n",
       "    .dataframe thead th {\n",
       "        text-align: right;\n",
       "    }\n",
       "</style>\n",
       "<table border=\"1\" class=\"dataframe\">\n",
       "  <thead>\n",
       "    <tr style=\"text-align: right;\">\n",
       "      <th></th>\n",
       "      <th>antecedents</th>\n",
       "      <th>consequents</th>\n",
       "      <th>antecedent support</th>\n",
       "      <th>consequent support</th>\n",
       "      <th>support</th>\n",
       "      <th>confidence</th>\n",
       "      <th>lift</th>\n",
       "      <th>leverage</th>\n",
       "      <th>conviction</th>\n",
       "    </tr>\n",
       "  </thead>\n",
       "  <tbody>\n",
       "    <tr>\n",
       "      <th>79594</th>\n",
       "      <td>(Shadows (Cienie) (1988))</td>\n",
       "      <td>(Quartier Mozart (1992))</td>\n",
       "      <td>0.00106</td>\n",
       "      <td>0.00106</td>\n",
       "      <td>0.00106</td>\n",
       "      <td>1.0</td>\n",
       "      <td>943.0</td>\n",
       "      <td>0.001059</td>\n",
       "      <td>inf</td>\n",
       "    </tr>\n",
       "    <tr>\n",
       "      <th>58781</th>\n",
       "      <td>(I, Worst of All (Yo, la peor de todas) (1990))</td>\n",
       "      <td>(Shadows (Cienie) (1988))</td>\n",
       "      <td>0.00106</td>\n",
       "      <td>0.00106</td>\n",
       "      <td>0.00106</td>\n",
       "      <td>1.0</td>\n",
       "      <td>943.0</td>\n",
       "      <td>0.001059</td>\n",
       "      <td>inf</td>\n",
       "    </tr>\n",
       "    <tr>\n",
       "      <th>79038</th>\n",
       "      <td>(Promise, The (Versprechen, Das) (1994))</td>\n",
       "      <td>(Touki Bouki (Journey of the Hyena) (1973))</td>\n",
       "      <td>0.00106</td>\n",
       "      <td>0.00106</td>\n",
       "      <td>0.00106</td>\n",
       "      <td>1.0</td>\n",
       "      <td>943.0</td>\n",
       "      <td>0.001059</td>\n",
       "      <td>inf</td>\n",
       "    </tr>\n",
       "    <tr>\n",
       "      <th>11935</th>\n",
       "      <td>(Lashou shentan (1992))</td>\n",
       "      <td>(Baton Rouge (1988))</td>\n",
       "      <td>0.00106</td>\n",
       "      <td>0.00106</td>\n",
       "      <td>0.00106</td>\n",
       "      <td>1.0</td>\n",
       "      <td>943.0</td>\n",
       "      <td>0.001059</td>\n",
       "      <td>inf</td>\n",
       "    </tr>\n",
       "    <tr>\n",
       "      <th>11936</th>\n",
       "      <td>(Baton Rouge (1988))</td>\n",
       "      <td>(Lashou shentan (1992))</td>\n",
       "      <td>0.00106</td>\n",
       "      <td>0.00106</td>\n",
       "      <td>0.00106</td>\n",
       "      <td>1.0</td>\n",
       "      <td>943.0</td>\n",
       "      <td>0.001059</td>\n",
       "      <td>inf</td>\n",
       "    </tr>\n",
       "  </tbody>\n",
       "</table>\n",
       "</div>"
      ],
      "text/plain": [
       "                                           antecedents  \\\n",
       "79594                        (Shadows (Cienie) (1988))   \n",
       "58781  (I, Worst of All (Yo, la peor de todas) (1990))   \n",
       "79038         (Promise, The (Versprechen, Das) (1994))   \n",
       "11935                          (Lashou shentan (1992))   \n",
       "11936                             (Baton Rouge (1988))   \n",
       "\n",
       "                                       consequents  antecedent support  \\\n",
       "79594                     (Quartier Mozart (1992))             0.00106   \n",
       "58781                    (Shadows (Cienie) (1988))             0.00106   \n",
       "79038  (Touki Bouki (Journey of the Hyena) (1973))             0.00106   \n",
       "11935                         (Baton Rouge (1988))             0.00106   \n",
       "11936                      (Lashou shentan (1992))             0.00106   \n",
       "\n",
       "       consequent support  support  confidence   lift  leverage  conviction  \n",
       "79594             0.00106  0.00106         1.0  943.0  0.001059         inf  \n",
       "58781             0.00106  0.00106         1.0  943.0  0.001059         inf  \n",
       "79038             0.00106  0.00106         1.0  943.0  0.001059         inf  \n",
       "11935             0.00106  0.00106         1.0  943.0  0.001059         inf  \n",
       "11936             0.00106  0.00106         1.0  943.0  0.001059         inf  "
      ]
     },
     "execution_count": 10,
     "metadata": {},
     "output_type": "execute_result"
    }
   ],
   "source": [
    "# sort rules by descending lift\n",
    "rules.sort_values('lift', ascending=False).head(5)"
   ]
  },
  {
   "cell_type": "code",
   "execution_count": null,
   "metadata": {},
   "outputs": [],
   "source": []
  },
  {
   "cell_type": "markdown",
   "metadata": {},
   "source": [
    "# Example Market Basket Analysis in Grocery Basket"
   ]
  },
  {
   "cell_type": "code",
   "execution_count": 15,
   "metadata": {
    "ExecuteTime": {
     "end_time": "2021-09-17T04:37:10.254673Z",
     "start_time": "2021-09-17T04:37:10.236656Z"
    }
   },
   "outputs": [
    {
     "data": {
      "text/html": [
       "<div>\n",
       "<style scoped>\n",
       "    .dataframe tbody tr th:only-of-type {\n",
       "        vertical-align: middle;\n",
       "    }\n",
       "\n",
       "    .dataframe tbody tr th {\n",
       "        vertical-align: top;\n",
       "    }\n",
       "\n",
       "    .dataframe thead th {\n",
       "        text-align: right;\n",
       "    }\n",
       "</style>\n",
       "<table border=\"1\" class=\"dataframe\">\n",
       "  <thead>\n",
       "    <tr style=\"text-align: right;\">\n",
       "      <th></th>\n",
       "      <th>ID</th>\n",
       "      <th>Transaction</th>\n",
       "    </tr>\n",
       "  </thead>\n",
       "  <tbody>\n",
       "    <tr>\n",
       "      <th>0</th>\n",
       "      <td>0</td>\n",
       "      <td>milk,bread,biscuit</td>\n",
       "    </tr>\n",
       "    <tr>\n",
       "      <th>1</th>\n",
       "      <td>1</td>\n",
       "      <td>bread,milk,biscuit,cereal</td>\n",
       "    </tr>\n",
       "    <tr>\n",
       "      <th>2</th>\n",
       "      <td>2</td>\n",
       "      <td>bread,tea</td>\n",
       "    </tr>\n",
       "    <tr>\n",
       "      <th>3</th>\n",
       "      <td>3</td>\n",
       "      <td>jam,bread,milk</td>\n",
       "    </tr>\n",
       "    <tr>\n",
       "      <th>4</th>\n",
       "      <td>4</td>\n",
       "      <td>tea,biscuit</td>\n",
       "    </tr>\n",
       "    <tr>\n",
       "      <th>5</th>\n",
       "      <td>5</td>\n",
       "      <td>bread,tea</td>\n",
       "    </tr>\n",
       "    <tr>\n",
       "      <th>6</th>\n",
       "      <td>6</td>\n",
       "      <td>tea,cereal</td>\n",
       "    </tr>\n",
       "    <tr>\n",
       "      <th>7</th>\n",
       "      <td>7</td>\n",
       "      <td>bread,tea,biscuit</td>\n",
       "    </tr>\n",
       "    <tr>\n",
       "      <th>8</th>\n",
       "      <td>8</td>\n",
       "      <td>jam,bread,tea</td>\n",
       "    </tr>\n",
       "    <tr>\n",
       "      <th>9</th>\n",
       "      <td>9</td>\n",
       "      <td>bread,milk</td>\n",
       "    </tr>\n",
       "    <tr>\n",
       "      <th>10</th>\n",
       "      <td>10</td>\n",
       "      <td>coffee,orange,biscuit,cereal</td>\n",
       "    </tr>\n",
       "    <tr>\n",
       "      <th>11</th>\n",
       "      <td>11</td>\n",
       "      <td>coffee,orange,biscuit,cereal</td>\n",
       "    </tr>\n",
       "    <tr>\n",
       "      <th>12</th>\n",
       "      <td>12</td>\n",
       "      <td>coffee,sugar</td>\n",
       "    </tr>\n",
       "    <tr>\n",
       "      <th>13</th>\n",
       "      <td>13</td>\n",
       "      <td>bread,coffee,orange</td>\n",
       "    </tr>\n",
       "    <tr>\n",
       "      <th>14</th>\n",
       "      <td>14</td>\n",
       "      <td>bread,sugar,biscuit</td>\n",
       "    </tr>\n",
       "    <tr>\n",
       "      <th>15</th>\n",
       "      <td>15</td>\n",
       "      <td>coffee,sugar,cereal</td>\n",
       "    </tr>\n",
       "    <tr>\n",
       "      <th>16</th>\n",
       "      <td>16</td>\n",
       "      <td>bread,sugar,biscuit</td>\n",
       "    </tr>\n",
       "    <tr>\n",
       "      <th>17</th>\n",
       "      <td>17</td>\n",
       "      <td>bread,coffee,sugar</td>\n",
       "    </tr>\n",
       "    <tr>\n",
       "      <th>18</th>\n",
       "      <td>18</td>\n",
       "      <td>bread,coffee,sugar</td>\n",
       "    </tr>\n",
       "    <tr>\n",
       "      <th>19</th>\n",
       "      <td>19</td>\n",
       "      <td>tea,milk,coffee,cereal</td>\n",
       "    </tr>\n",
       "  </tbody>\n",
       "</table>\n",
       "</div>"
      ],
      "text/plain": [
       "    ID                   Transaction\n",
       "0    0            milk,bread,biscuit\n",
       "1    1     bread,milk,biscuit,cereal\n",
       "2    2                     bread,tea\n",
       "3    3                jam,bread,milk\n",
       "4    4                   tea,biscuit\n",
       "5    5                     bread,tea\n",
       "6    6                    tea,cereal\n",
       "7    7             bread,tea,biscuit\n",
       "8    8                 jam,bread,tea\n",
       "9    9                    bread,milk\n",
       "10  10  coffee,orange,biscuit,cereal\n",
       "11  11  coffee,orange,biscuit,cereal\n",
       "12  12                  coffee,sugar\n",
       "13  13           bread,coffee,orange\n",
       "14  14           bread,sugar,biscuit\n",
       "15  15           coffee,sugar,cereal\n",
       "16  16           bread,sugar,biscuit\n",
       "17  17            bread,coffee,sugar\n",
       "18  18            bread,coffee,sugar\n",
       "19  19        tea,milk,coffee,cereal"
      ]
     },
     "execution_count": 15,
     "metadata": {},
     "output_type": "execute_result"
    }
   ],
   "source": [
    "groceries = pd.read_csv(\"groceries.txt\", sep=\"\\t\")  #pd.read_csv(\"groceries.txt\", sep=\";\") \n",
    "groceries"
   ]
  },
  {
   "cell_type": "markdown",
   "metadata": {
    "ExecuteTime": {
     "end_time": "2021-09-17T04:38:11.176714Z",
     "start_time": "2021-09-17T04:38:11.162701Z"
    }
   },
   "source": [
    "## association rules of 3 items"
   ]
  },
  {
   "cell_type": "code",
   "execution_count": 17,
   "metadata": {
    "ExecuteTime": {
     "end_time": "2021-09-17T04:38:23.928267Z",
     "start_time": "2021-09-17T04:38:22.842279Z"
    }
   },
   "outputs": [],
   "source": [
    "import pandas as pd\n",
    "import numpy as np\n",
    "from mlxtend.frequent_patterns import association_rules, apriori\n",
    "from mlxtend.preprocessing import TransactionEncoder\n",
    "# get all the transcactions as a list\n",
    "transcactions = list(groceries['Transaction'].apply(lambda x: sorted(x.split(','))))\n",
    "# instantiate transcation encoder\n",
    "encoder = TransactionEncoder().fit(transcactions)\n",
    "onehot = encoder.transform(transcactions)\n",
    "# convert one-hot encode data to DataFrame\n",
    "onehot = pd.DataFrame(onehot, columns=encoder.columns_)\n",
    "# compute frequent items using the Apriori algorithm - Get up to three items\n",
    "frequent_itemsets = apriori(onehot, min_support = 0.001, max_len = 3, use_colnames=True)\n",
    "# compute all association rules for frequent_itemsets\n",
    "rules = association_rules(frequent_itemsets, metric=\"lift\", min_threshold=1)"
   ]
  },
  {
   "cell_type": "code",
   "execution_count": 18,
   "metadata": {
    "ExecuteTime": {
     "end_time": "2021-09-17T04:38:31.984017Z",
     "start_time": "2021-09-17T04:38:31.962953Z"
    }
   },
   "outputs": [
    {
     "data": {
      "text/html": [
       "<div>\n",
       "<style scoped>\n",
       "    .dataframe tbody tr th:only-of-type {\n",
       "        vertical-align: middle;\n",
       "    }\n",
       "\n",
       "    .dataframe tbody tr th {\n",
       "        vertical-align: top;\n",
       "    }\n",
       "\n",
       "    .dataframe thead th {\n",
       "        text-align: right;\n",
       "    }\n",
       "</style>\n",
       "<table border=\"1\" class=\"dataframe\">\n",
       "  <thead>\n",
       "    <tr style=\"text-align: right;\">\n",
       "      <th></th>\n",
       "      <th>antecedents</th>\n",
       "      <th>consequents</th>\n",
       "      <th>antecedent support</th>\n",
       "      <th>consequent support</th>\n",
       "      <th>support</th>\n",
       "      <th>confidence</th>\n",
       "      <th>lift</th>\n",
       "      <th>leverage</th>\n",
       "      <th>conviction</th>\n",
       "      <th>lhs items</th>\n",
       "    </tr>\n",
       "  </thead>\n",
       "  <tbody>\n",
       "    <tr>\n",
       "      <th>60</th>\n",
       "      <td>(biscuit, coffee)</td>\n",
       "      <td>(orange)</td>\n",
       "      <td>0.10</td>\n",
       "      <td>0.15</td>\n",
       "      <td>0.10</td>\n",
       "      <td>1.000000</td>\n",
       "      <td>6.666667</td>\n",
       "      <td>0.0850</td>\n",
       "      <td>inf</td>\n",
       "      <td>2</td>\n",
       "    </tr>\n",
       "    <tr>\n",
       "      <th>54</th>\n",
       "      <td>(cereal, biscuit)</td>\n",
       "      <td>(orange)</td>\n",
       "      <td>0.15</td>\n",
       "      <td>0.15</td>\n",
       "      <td>0.10</td>\n",
       "      <td>0.666667</td>\n",
       "      <td>4.444444</td>\n",
       "      <td>0.0775</td>\n",
       "      <td>2.55</td>\n",
       "      <td>2</td>\n",
       "    </tr>\n",
       "    <tr>\n",
       "      <th>64</th>\n",
       "      <td>(bread, cereal)</td>\n",
       "      <td>(milk)</td>\n",
       "      <td>0.05</td>\n",
       "      <td>0.25</td>\n",
       "      <td>0.05</td>\n",
       "      <td>1.000000</td>\n",
       "      <td>4.000000</td>\n",
       "      <td>0.0375</td>\n",
       "      <td>inf</td>\n",
       "      <td>2</td>\n",
       "    </tr>\n",
       "    <tr>\n",
       "      <th>111</th>\n",
       "      <td>(tea, coffee)</td>\n",
       "      <td>(milk)</td>\n",
       "      <td>0.05</td>\n",
       "      <td>0.25</td>\n",
       "      <td>0.05</td>\n",
       "      <td>1.000000</td>\n",
       "      <td>4.000000</td>\n",
       "      <td>0.0375</td>\n",
       "      <td>inf</td>\n",
       "      <td>2</td>\n",
       "    </tr>\n",
       "    <tr>\n",
       "      <th>94</th>\n",
       "      <td>(cereal, coffee)</td>\n",
       "      <td>(orange)</td>\n",
       "      <td>0.20</td>\n",
       "      <td>0.15</td>\n",
       "      <td>0.10</td>\n",
       "      <td>0.500000</td>\n",
       "      <td>3.333333</td>\n",
       "      <td>0.0700</td>\n",
       "      <td>1.70</td>\n",
       "      <td>2</td>\n",
       "    </tr>\n",
       "  </tbody>\n",
       "</table>\n",
       "</div>"
      ],
      "text/plain": [
       "           antecedents consequents  antecedent support  consequent support  \\\n",
       "60   (biscuit, coffee)    (orange)                0.10                0.15   \n",
       "54   (cereal, biscuit)    (orange)                0.15                0.15   \n",
       "64     (bread, cereal)      (milk)                0.05                0.25   \n",
       "111      (tea, coffee)      (milk)                0.05                0.25   \n",
       "94    (cereal, coffee)    (orange)                0.20                0.15   \n",
       "\n",
       "     support  confidence      lift  leverage  conviction  lhs items  \n",
       "60      0.10    1.000000  6.666667    0.0850         inf          2  \n",
       "54      0.10    0.666667  4.444444    0.0775        2.55          2  \n",
       "64      0.05    1.000000  4.000000    0.0375         inf          2  \n",
       "111     0.05    1.000000  4.000000    0.0375         inf          2  \n",
       "94      0.10    0.500000  3.333333    0.0700        1.70          2  "
      ]
     },
     "execution_count": 18,
     "metadata": {},
     "output_type": "execute_result"
    }
   ],
   "source": [
    "rules['lhs items'] = rules['antecedents'].apply(lambda x:len(x) )\n",
    "rules[rules['lhs items']>1].sort_values('lift', ascending=False).head()"
   ]
  },
  {
   "cell_type": "code",
   "execution_count": null,
   "metadata": {},
   "outputs": [],
   "source": []
  },
  {
   "cell_type": "markdown",
   "metadata": {},
   "source": [
    "## Visualize Market Basket Analysis"
   ]
  },
  {
   "cell_type": "code",
   "execution_count": 33,
   "metadata": {
    "ExecuteTime": {
     "end_time": "2021-09-17T04:50:49.623026Z",
     "start_time": "2021-09-17T04:50:48.936824Z"
    }
   },
   "outputs": [
    {
     "data": {
      "image/png": "[encoded data removed]",
      "text/plain": [
       "<Figure size 864x504 with 2 Axes>"
      ]
     },
     "metadata": {},
     "output_type": "display_data"
    }
   ],
   "source": [
    "import seaborn as sns\n",
    "import matplotlib.pyplot as plt\n",
    "sns.set_style('white')\n",
    "plt.figure(figsize=(12,7))\n",
    "\n",
    "# Replace frozen sets with strings\n",
    "rules['antecedents_'] = rules['antecedents'].apply(lambda a: ','.join(list(a)))\n",
    "rules['consequents_'] = rules['consequents'].apply(lambda a: ','.join(list(a)))\n",
    "# Transform the DataFrame of rules into a matrix using the lift metric\n",
    "pivot = rules[rules['lhs items']>1].pivot(index = 'antecedents_', \n",
    "                    columns = 'consequents_', values= 'lift')\n",
    "# Generate a heatmap with annotations on and the colorbar off\n",
    "sns.heatmap(pivot, annot = True)\n",
    "plt.yticks(rotation=0)\n",
    "plt.xticks(rotation=90)\n",
    "plt.show()"
   ]
  },
  {
   "cell_type": "code",
   "execution_count": null,
   "metadata": {},
   "outputs": [],
   "source": []
  },
  {
   "cell_type": "code",
   "execution_count": null,
   "metadata": {},
   "outputs": [],
   "source": []
  },
  {
   "cell_type": "code",
   "execution_count": null,
   "metadata": {},
   "outputs": [],
   "source": []
  },
  {
   "cell_type": "code",
   "execution_count": null,
   "metadata": {},
   "outputs": [],
   "source": []
  },
  {
   "cell_type": "code",
   "execution_count": null,
   "metadata": {},
   "outputs": [],
   "source": []
  },
  {
   "cell_type": "code",
   "execution_count": null,
   "metadata": {},
   "outputs": [],
   "source": []
  },
  {
   "cell_type": "code",
   "execution_count": null,
   "metadata": {},
   "outputs": [],
   "source": []
  },
  {
   "cell_type": "code",
   "execution_count": null,
   "metadata": {},
   "outputs": [],
   "source": []
  },
  {
   "cell_type": "code",
   "execution_count": null,
   "metadata": {},
   "outputs": [],
   "source": []
  },
  {
   "cell_type": "code",
   "execution_count": null,
   "metadata": {},
   "outputs": [],
   "source": []
  }
 ],
 "metadata": {
  "hide_input": false,
  "kernelspec": {
   "display_name": "Python 3",
   "language": "python",
   "name": "python3"
  },
  "language_info": {
   "codemirror_mode": {
    "name": "ipython",
    "version": 3
   },
   "file_extension": ".py",
   "mimetype": "text/x-python",
   "name": "python",
   "nbconvert_exporter": "python",
   "pygments_lexer": "ipython3",
   "version": "3.8.5"
  },
  "toc": {
   "base_numbering": 1,
   "nav_menu": {},
   "number_sections": true,
   "sideBar": true,
   "skip_h1_title": false,
   "title_cell": "Table of Contents",
   "title_sidebar": "Contents",
   "toc_cell": true,
   "toc_position": {
    "height": "calc(100% - 180px)",
    "left": "10px",
    "top": "150px",
    "width": "550.4px"
   },
   "toc_section_display": true,
   "toc_window_display": true
  }
 },
 "nbformat": 4,
 "nbformat_minor": 4
}
